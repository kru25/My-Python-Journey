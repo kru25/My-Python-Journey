{
 "cells": [
  {
   "cell_type": "code",
   "execution_count": 1,
   "metadata": {},
   "outputs": [
    {
     "name": "stdout",
     "output_type": "stream",
     "text": [
      "['to', 'seen', 'you', 'me', 'seen', 'you', 'we']\n",
      "{'to': 1, 'seen': 2, 'you': 2, 'me': 1, 'we': 1}\n"
     ]
    }
   ],
   "source": [
    "#count the occurrences of each word in a given sentence\n",
    "sen=\"to seen you me seen you we\"\n",
    "sen1=sen.split(\" \")\n",
    "print(sen1)\n",
    "dic={}\n",
    "for i in sen1:\n",
    "    dic.setdefault(i,sen1.count(i))\n",
    "print(dic)"
   ]
  },
  {
   "cell_type": "code",
   "execution_count": 10,
   "metadata": {},
   "outputs": [
    {
     "name": "stdout",
     "output_type": "stream",
     "text": [
      "[' black', ' green', ' red', ' white', 'red']\n"
     ]
    }
   ],
   "source": [
    "#accepts a comma separated sequence of words as input and prints the unique words in sorted form (alphanumerically)\n",
    "item=\"red, white, black, red, green, black\"\n",
    "item_list=item.split(\",\")\n",
    "print(sorted(list(set(item_list))))"
   ]
  },
  {
   "cell_type": "code",
   "execution_count": 20,
   "metadata": {},
   "outputs": [
    {
     "name": "stdout",
     "output_type": "stream",
     "text": [
      "<i>Python</i>\n"
     ]
    }
   ],
   "source": [
    "#Python function to create the HTML string with tags around the word(s)\n",
    "def add_tags(tag, word):\n",
    "    print(\"<%s>%s</%s>\" % (tag, word, tag))\n",
    "add_tags(\"i\",\"Python\")"
   ]
  },
  {
   "cell_type": "code",
   "execution_count": 21,
   "metadata": {},
   "outputs": [
    {
     "data": {
      "text/plain": [
       "'[[Python]]'"
      ]
     },
     "execution_count": 21,
     "metadata": {},
     "output_type": "execute_result"
    }
   ],
   "source": [
    "#Python function to insert a string in the middle of a string.\n",
    "def insert_sting_middle(s1,s2):\n",
    "    return(s1[0:2]+s2+s1[2:])\n",
    "insert_sting_middle('[[]]', 'Python') "
   ]
  },
  {
   "cell_type": "code",
   "execution_count": 22,
   "metadata": {},
   "outputs": [
    {
     "data": {
      "text/plain": [
       "'onononon'"
      ]
     },
     "execution_count": 22,
     "metadata": {},
     "output_type": "execute_result"
    }
   ],
   "source": [
    "#Python function to get a string made of 4 copies of the last two characters of a specified string (length must be at least 2).\n",
    "def insert_end(word):\n",
    "    return(word[-2:]*4)\n",
    "insert_end('Python')"
   ]
  },
  {
   "cell_type": "code",
   "execution_count": 24,
   "metadata": {},
   "outputs": [
    {
     "data": {
      "text/plain": [
       "'Pyt'"
      ]
     },
     "execution_count": 24,
     "metadata": {},
     "output_type": "execute_result"
    }
   ],
   "source": [
    "#Python function to get a string made of its first three characters of a specified string.\n",
    "#If the length of the string is less than 3 then return the original string\n",
    "def first_three(item):\n",
    "    if(len(item)<3):\n",
    "        return(item)\n",
    "    else:\n",
    "        return(item[0:3])\n",
    "first_three(\"Pyt\")"
   ]
  },
  {
   "cell_type": "code",
   "execution_count": 35,
   "metadata": {},
   "outputs": [
    {
     "name": "stdout",
     "output_type": "stream",
     "text": [
      "https://www.w3resource.com/python\n",
      "<reversed object at 0x0000021EB41F9BA8>\n"
     ]
    }
   ],
   "source": [
    "#get the last part of a string before a specified character\n",
    "url1=\"https://www.w3resource.com/python-exercises\"\n",
    "print((url1.rsplit(\"-\"))[0])\n",
    "st1=reversed(url1)\n",
    "print(st1)"
   ]
  },
  {
   "cell_type": "code",
   "execution_count": 47,
   "metadata": {},
   "outputs": [
    {
     "name": "stdout",
     "output_type": "stream",
     "text": [
      "dcba\n",
      "python\n"
     ]
    }
   ],
   "source": [
    "#Python function to reverses a string if it's length is a multiple of 4.\n",
    "def reverse_string(str1):\n",
    "    if len(str1) % 4 == 0:\n",
    "       return ''.join(reversed(str1))\n",
    "    return str1\n",
    "                                             #some problem with the syntax of the program\n",
    "print(reverse_string('abcd'))\n",
    "print(reverse_string('python'))\n"
   ]
  },
  {
   "cell_type": "code",
   "execution_count": 49,
   "metadata": {},
   "outputs": [
    {
     "data": {
      "text/plain": [
       "'Puhbj'"
      ]
     },
     "execution_count": 49,
     "metadata": {},
     "output_type": "execute_result"
    }
   ],
   "source": [
    "#Python function to convert a given string to all uppercase if it contains at \n",
    "#least 2 uppercase characters in the first 4 characters\n",
    "def conv_up(sent):\n",
    "    lett=0\n",
    "    for let in (sent[0:4]):\n",
    "        if(let.upper()==let):\n",
    "            lett=lett+1\n",
    "        if(lett>=2):\n",
    "            return sent.upper()\n",
    "    return(sent)\n",
    "\n",
    "conv_up(\"Puhbj\")\n",
    "        \n",
    "    "
   ]
  },
  {
   "cell_type": "code",
   "execution_count": 64,
   "metadata": {},
   "outputs": [
    {
     "name": "stdout",
     "output_type": "stream",
     "text": [
      "['a', 'i', 'k', 'k', 'r', 't', 'u']\n",
      "aikkrtu\n"
     ]
    },
    {
     "data": {
      "text/plain": [
       "str"
      ]
     },
     "execution_count": 64,
     "metadata": {},
     "output_type": "execute_result"
    }
   ],
   "source": [
    "# program to sort a string lexicographically\n",
    "st=\"krutika\"\n",
    "li=sorted(st)\n",
    "print(li)\n",
    "li=\"\".join(li)\n",
    "print(li)"
   ]
  },
  {
   "cell_type": "code",
   "execution_count": 69,
   "metadata": {},
   "outputs": [
    {
     "name": "stdout",
     "output_type": "stream",
     "text": [
      "Krutika Talegaonkar \n",
      "\n",
      "Krutika Talegaonkar\n"
     ]
    }
   ],
   "source": [
    "# Python program to remove a newline in Python.\n",
    "strk2=\"Krutika Talegaonkar \\n\"\n",
    "print(strk2)\n",
    "print(strk2.rstrip())"
   ]
  },
  {
   "cell_type": "code",
   "execution_count": 72,
   "metadata": {},
   "outputs": [
    {
     "name": "stdout",
     "output_type": "stream",
     "text": [
      "No\n"
     ]
    }
   ],
   "source": [
    "#check whether a string starts with specified characters\n",
    "st7=\"Krutika\"\n",
    "st=\"ru\"\n",
    "if(st7.startswith(st)):\n",
    "    print(\"Yes\")\n",
    "else:\n",
    "    print(\"No\")"
   ]
  },
  {
   "cell_type": "code",
   "execution_count": 75,
   "metadata": {},
   "outputs": [
    {
     "name": "stdout",
     "output_type": "stream",
     "text": [
      "Maids table how learn drift but purse stand yet\n",
      "set. Music me house could among oh as their.\n",
      "Piqued our sister shy nature almost his wicket.\n",
      "Hand dear so we hour to. He we be hastily offence\n",
      "effects he service.  Sympathize it projection ye\n",
      "insipidity celebrated my pianoforte indulgence.\n",
      "Point his truth put style. Elegance exercise as\n",
      "laughing proposal mistaken if.  We up precaution\n",
      "an it solicitude acceptance invitation.\n",
      "Maids table how learn drift but purse stand yet set. Music me house could among oh as their. Piqued our sister shy nature almost his wicket. Hand dear so we hour to. He we be hastily offence effects he service. \n",
      "Sympathize it projection ye insipidity celebrated my pianoforte indulgence. Point his truth put style. Elegance exercise as laughing proposal mistaken if. \n",
      "We up precaution an it solicitude acceptance invitation.\n",
      "<Maids table how learn drift but purse stand yet set. Music me house could among oh as their. Piqued our sister shy nature almost his wicket. Hand dear so we hour to. He we be hastily offence effects he service. \n",
      "<Sympathize it projection ye insipidity celebrated my pianoforte indulgence. Point his truth put style. Elegance exercise as laughing proposal mistaken if. \n",
      "<We up precaution an it solicitude acceptance invitation.\n"
     ]
    }
   ],
   "source": [
    "#Python program to display formatted text (width=50) as output\n",
    "st8=\"\"\"Maids table how learn drift but purse stand yet set. Music me house could among oh as their. Piqued our sister shy nature almost his wicket. Hand dear so we hour to. He we be hastily offence effects he service. \n",
    "Sympathize it projection ye insipidity celebrated my pianoforte indulgence. Point his truth put style. Elegance exercise as laughing proposal mistaken if. \n",
    "We up precaution an it solicitude acceptance invitation.\"\"\"\n",
    "import textwrap\n",
    "print(textwrap.fill(st8,width=50))\n",
    "print(textwrap.dedent(st8))# to remove indentation\n",
    "print(textwrap.indent(st8,'<')) #to add prefix before the text"
   ]
  },
  {
   "cell_type": "code",
   "execution_count": 77,
   "metadata": {},
   "outputs": [
    {
     "name": "stdout",
     "output_type": "stream",
     "text": [
      "5\n",
      "Hary\n",
      "7.0\n",
      "bary\n",
      "9.0\n",
      "Karu\n",
      "8.0\n",
      "tany\n",
      "6.0\n",
      "inhi\n",
      "8.0\n",
      "Hary\n"
     ]
    }
   ],
   "source": [
    "N = int(input())\n",
    "final = list()\n",
    "for i in range(N):\n",
    "    lst = list()\n",
    "    name = str(input())\n",
    "    marks = float(input())\n",
    "    lst.append(name)\n",
    "    lst.append(marks)\n",
    "    final.append(lst)\n",
    "k = list()\n",
    "for i in range(len(final)):\n",
    "    k.append(final[i][1])\n",
    "x = min(k)\n",
    "k1 = list()\n",
    "for i in range(len(k)):\n",
    "    if x != k[i]:\n",
    "        k1.append(k[i])\n",
    "y = min(k1)\n",
    "student = list()\n",
    "for i in range(len(final)):\n",
    "    if y == final[i][1]:\n",
    "        student.append(final[i][0])\n",
    "student.sort()\n",
    "for i in range(len(student)):\n",
    "    print(student[i])\n",
    "\n"
   ]
  },
  {
   "cell_type": "code",
   "execution_count": 80,
   "metadata": {},
   "outputs": [
    {
     "name": "stdout",
     "output_type": "stream",
     "text": [
      "2\n",
      "hary\n",
      "9.0\n",
      "cary 8.0\n",
      "7.0\n",
      "[['hary', 9.0], ['cary 8.0', 7.0]]\n",
      "7.0\n"
     ]
    }
   ],
   "source": [
    "n=int(input())\n",
    "lis=[]\n",
    "for i in range(n):\n",
    "    name=str(input())\n",
    "    score=float(input())\n",
    "    lis.append([name,score])\n",
    "print(lis)\n",
    "print(score)"
   ]
  },
  {
   "cell_type": "code",
   "execution_count": 89,
   "metadata": {},
   "outputs": [
    {
     "name": "stdout",
     "output_type": "stream",
     "text": [
      "2\n",
      "tam\n",
      "8.0\n",
      "um\n",
      "0\n",
      "tam\n"
     ]
    }
   ],
   "source": [
    "#my first hackerrank problem\n",
    "n=int(input())\n",
    "lis=[]\n",
    "marks=[]\n",
    "for i in range(n):\n",
    "    name=str(input())\n",
    "    score=float(input())\n",
    "    lis.append([name,score])\n",
    "for j in lis:\n",
    "    marks.append(j[1])\n",
    "m=min(marks)\n",
    "marks.sort()\n",
    "marks=list(set(marks))\n",
    "sec_high=marks[1]\n",
    "stu=[]\n",
    "for j in lis:\n",
    "    if(j[1]==sec_high):\n",
    "        stu.append(j[0])\n",
    "stu.sort()\n",
    "for k in stu:\n",
    "    print(k)\n"
   ]
  },
  {
   "cell_type": "code",
   "execution_count": null,
   "metadata": {},
   "outputs": [],
   "source": [
    "k=1\n"
   ]
  },
  {
   "cell_type": "code",
   "execution_count": null,
   "metadata": {},
   "outputs": [],
   "source": []
  }
 ],
 "metadata": {
  "kernelspec": {
   "display_name": "Python 3",
   "language": "python",
   "name": "python3"
  },
  "language_info": {
   "codemirror_mode": {
    "name": "ipython",
    "version": 3
   },
   "file_extension": ".py",
   "mimetype": "text/x-python",
   "name": "python",
   "nbconvert_exporter": "python",
   "pygments_lexer": "ipython3",
   "version": "3.7.3"
  }
 },
 "nbformat": 4,
 "nbformat_minor": 2
}
