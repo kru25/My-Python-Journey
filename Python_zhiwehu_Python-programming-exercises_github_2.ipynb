{
 "cells": [
  {
   "cell_type": "code",
   "execution_count": 5,
   "metadata": {},
   "outputs": [
    {
     "name": "stdout",
     "output_type": "stream",
     "text": [
      "2000,2002,2004,2006,2008,2020,2022,2024,2026,2028,2040,2042,2044,2046,2048,2060,2062,2064,2066,2068,2080,2082,2084,2086,2088,2200,2202,2204,2206,2208,2220,2222,2224,2226,2228,2240,2242,2244,2246,2248,2260,2262,2264,2266,2268,2280,2282,2284,2286,2288,2400,2402,2404,2406,2408,2420,2422,2424,2426,2428,2440,2442,2444,2446,2448,2460,2462,2464,2466,2468,2480,2482,2484,2486,2488,2600,2602,2604,2606,2608,2620,2622,2624,2626,2628,2640,2642,2644,2646,2648,2660,2662,2664,2666,2668,2680,2682,2684,2686,2688,2800,2802,2804,2806,2808,2820,2822,2824,2826,2828,2840,2842,2844,2846,2848,2860,2862,2864,2866,2868,2880,2882,2884,2886,2888\n"
     ]
    }
   ],
   "source": [
    "#find all such numbers between 1000 and 3000 (both included) such that each digit of the number is an even number.\n",
    "The numbers obtained should be printed in a comma-separated sequence on a single line.\n",
    "values=[]\n",
    "for i in range(1000,3001):\n",
    "    i=str(i)\n",
    "    if(int(i[0])%2==0) and (int(i[1])%2==0) and  (int(i[2])%2==0) and  (int(i[3])%2==0) :\n",
    "        values.append(i)\n",
    "print(\",\".join(values))"
   ]
  },
  {
   "cell_type": "code",
   "execution_count": 9,
   "metadata": {},
   "outputs": [
    {
     "name": "stdout",
     "output_type": "stream",
     "text": [
      "Enter the sentenceHello! world 10\n",
      "2\n",
      "10\n"
     ]
    }
   ],
   "source": [
    "#accepts a sentence and calculate the number of letters and digits.\n",
    "st=input(\"Enter the sentence\").split(\" \")\n",
    "letter=0\n",
    "number=0\n",
    "for i in st:\n",
    "    for j in i:\n",
    "        if(j.isalpha()):\n",
    "            letter=letter+1\n",
    "        elif(j.isdigit()):\n",
    "            number=number+1\n",
    "        else:\n",
    "            continue\n",
    "print(number)\n",
    "print(letter)"
   ]
  },
  {
   "cell_type": "code",
   "execution_count": 10,
   "metadata": {},
   "outputs": [
    {
     "name": "stdout",
     "output_type": "stream",
     "text": [
      "Enter the sentenceHello World\n",
      "Upper: 2\n",
      "Lower: 8\n"
     ]
    }
   ],
   "source": [
    "#accepts a sentence and calculate the number of upper case letters and lower case letters\n",
    "st=input(\"Enter the sentence\").split(\" \")\n",
    "upper=0\n",
    "lower=0\n",
    "for i in st:\n",
    "    for j in i:\n",
    "        if(j.upper()==j):\n",
    "            upper=upper+1\n",
    "        elif(j.lower()==j):\n",
    "            lower=lower+1\n",
    "        else:\n",
    "            continue\n",
    "print(\"Upper:\" ,upper)\n",
    "print(\"Lower:\" ,lower)\n"
   ]
  },
  {
   "cell_type": "code",
   "execution_count": null,
   "metadata": {},
   "outputs": [],
   "source": [
    "li=input(\"Enter the nos\").split(\",\")\n",
    "sqli=[]\n",
    "for i in li:\n",
    "    i=int(i)\n",
    "    if(i%2!=0):\n",
    "        sqli.append(i*i)"
   ]
  },
  {
   "cell_type": "code",
   "execution_count": null,
   "metadata": {},
   "outputs": [],
   "source": []
  },
  {
   "cell_type": "code",
   "execution_count": null,
   "metadata": {},
   "outputs": [],
   "source": []
  }
 ],
 "metadata": {
  "kernelspec": {
   "display_name": "Python 3",
   "language": "python",
   "name": "python3"
  },
  "language_info": {
   "codemirror_mode": {
    "name": "ipython",
    "version": 3
   },
   "file_extension": ".py",
   "mimetype": "text/x-python",
   "name": "python",
   "nbconvert_exporter": "python",
   "pygments_lexer": "ipython3",
   "version": "3.7.3"
  }
 },
 "nbformat": 4,
 "nbformat_minor": 2
}
