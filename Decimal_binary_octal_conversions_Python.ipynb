{
 "cells": [
  {
   "cell_type": "code",
   "execution_count": 86,
   "metadata": {},
   "outputs": [
    {
     "data": {
      "text/plain": [
       "55"
      ]
     },
     "execution_count": 86,
     "metadata": {},
     "output_type": "execute_result"
    }
   ],
   "source": [
    "#decimal to octal\n",
    "def dec_oct(i):\n",
    "    oc=[]\n",
    "    if(i<8):\n",
    "        return(i)\n",
    "    else:\n",
    "        while(i>8):\n",
    "            a=i%8\n",
    "            i=int(i/8)\n",
    "            oc.append(str(a))\n",
    "        oc.append(str(int(i)))\n",
    "        oc.reverse()\n",
    "        oc=\"\".join(oc)\n",
    "        return(int(oc))\n",
    "dec_oct(45)\n"
   ]
  },
  {
   "cell_type": "code",
   "execution_count": 87,
   "metadata": {},
   "outputs": [
    {
     "data": {
      "text/plain": [
       "'2D'"
      ]
     },
     "execution_count": 87,
     "metadata": {},
     "output_type": "execute_result"
    }
   ],
   "source": [
    "#Decimal to Hexadecimal\n",
    "def dec_hexa(j):\n",
    "    heh=[]\n",
    "    if(j<=9):\n",
    "        return(j)\n",
    "    elif(j==10):\n",
    "        return(\"A\")\n",
    "    elif(j==11):\n",
    "        return(\"B\")\n",
    "    elif(j==12):\n",
    "        return(\"C\")\n",
    "    elif(j==13):\n",
    "        return(\"D\")\n",
    "    elif(j==14):\n",
    "        return(\"E\")\n",
    "    elif(j==15):\n",
    "        return(\"F\")\n",
    "    elif(j>=16):\n",
    "        while(j>=16):\n",
    "            b=j%16\n",
    "            j=int(j/16)\n",
    "            heh.append(str(b))\n",
    "        heh.append(str(int(j)))\n",
    "        for k in range(len(heh)):\n",
    "            if(heh[k]==\"10\"):\n",
    "                heh[k]=\"A\"\n",
    "            elif(heh[k]==\"11\"):\n",
    "                heh[k]=\"B\"\n",
    "            elif(heh[k]==\"12\"):\n",
    "                heh[k]=\"C\"\n",
    "            elif(heh[k]==\"13\"):\n",
    "                heh[k]=\"D\"\n",
    "            elif(heh[k]==\"14\"):\n",
    "                heh[k]=\"E\"\n",
    "            elif(heh[k]==\"15\"):\n",
    "                heh[k]=\"F\"\n",
    "        heh.reverse()\n",
    "        heh=\"\".join(heh)\n",
    "        return(heh)        \n",
    "dec_hexa(45)"
   ]
  },
  {
   "cell_type": "code",
   "execution_count": 88,
   "metadata": {},
   "outputs": [
    {
     "data": {
      "text/plain": [
       "101101"
      ]
     },
     "execution_count": 88,
     "metadata": {},
     "output_type": "execute_result"
    }
   ],
   "source": [
    "#Decimal to Binary\n",
    "def dec_bin(l):\n",
    "    bi=[]\n",
    "    while(l>1):\n",
    "        c=l%2\n",
    "        l=int(l/2)\n",
    "        bi.append(str(c))\n",
    "    bi.append(str(int(l)))\n",
    "    bi.reverse()\n",
    "    bi=\"\".join(bi)\n",
    "    return(int(bi))\n",
    "\n",
    "dec_bin(45)        "
   ]
  },
  {
   "cell_type": "code",
   "execution_count": 81,
   "metadata": {},
   "outputs": [
    {
     "name": "stdout",
     "output_type": "stream",
     "text": [
      "      1       1       1       1\n",
      "      2       2       2      10\n",
      "      3       3       3      11\n",
      "      4       4       4     100\n",
      "      5       5       5     101\n",
      "      6       6       6     110\n",
      "      7       7       7     111\n",
      "      8      10       8    1000\n",
      "      9      11       9    1001\n",
      "     10      12       A    1010\n",
      "     11      13       B    1011\n",
      "     12      14       C    1100\n",
      "     13      15       D    1101\n",
      "     14      16       E    1110\n",
      "     15      17       F    1111\n",
      "     16      20      10   10000\n",
      "     17      21      11   10001\n",
      "     18      22      12   10010\n",
      "     19      23      13   10011\n",
      "     20      24      14   10100\n",
      "     21      25      15   10101\n",
      "     22      26      16   10110\n",
      "     23      27      17   10111\n",
      "     24      30      18   11000\n",
      "     25      31      19   11001\n",
      "     26      32      1A   11010\n",
      "     27      33      1B   11011\n",
      "     28      34      1C   11100\n",
      "     29      35      1D   11101\n",
      "     30      36      1E   11110\n",
      "     31      37      1F   11111\n",
      "     32      40      20  100000\n",
      "     33      41      21  100001\n",
      "     34      42      22  100010\n",
      "     35      43      23  100011\n",
      "     36      44      24  100100\n",
      "     37      45      25  100101\n",
      "     38      46      26  100110\n",
      "     39      47      27  100111\n",
      "     40      50      28  101000\n",
      "     41      51      29  101001\n",
      "     42      52      2A  101010\n",
      "     43      53      2B  101011\n",
      "     44      54      2C  101100\n",
      "     45      55      2D  101101\n",
      "     46      56      2E  101110\n",
      "     47      57      2F  101111\n",
      "     48      60      30  110000\n",
      "     49      61      31  110001\n",
      "     50      62      32  110010\n",
      "     51      63      33  110011\n",
      "     52      64      34  110100\n",
      "     53      65      35  110101\n",
      "     54      66      36  110110\n",
      "     55      67      37  110111\n",
      "     56      70      38  111000\n",
      "     57      71      39  111001\n",
      "     58      72      3A  111010\n",
      "     59      73      3B  111011\n",
      "     60      74      3C  111100\n",
      "     61      75      3D  111101\n",
      "     62      76      3E  111110\n",
      "     63      77      3F  111111\n",
      "     64     100      40 1000000\n",
      "     65     101      41 1000001\n",
      "     66     102      42 1000010\n",
      "     67     103      43 1000011\n",
      "     68     104      44 1000100\n",
      "     69     105      45 1000101\n",
      "     70     106      46 1000110\n",
      "     71     107      47 1000111\n",
      "     72     110      48 1001000\n",
      "     73     111      49 1001001\n",
      "     74     112      4A 1001010\n",
      "     75     113      4B 1001011\n",
      "     76     114      4C 1001100\n",
      "     77     115      4D 1001101\n",
      "     78     116      4E 1001110\n",
      "     79     117      4F 1001111\n",
      "     80     120      50 1010000\n",
      "     81     121      51 1010001\n",
      "     82     122      52 1010010\n",
      "     83     123      53 1010011\n",
      "     84     124      54 1010100\n",
      "     85     125      55 1010101\n",
      "     86     126      56 1010110\n",
      "     87     127      57 1010111\n",
      "     88     130      58 1011000\n",
      "     89     131      59 1011001\n",
      "     90     132      5A 1011010\n",
      "     91     133      5B 1011011\n",
      "     92     134      5C 1011100\n",
      "     93     135      5D 1011101\n",
      "     94     136      5E 1011110\n",
      "     95     137      5F 1011111\n",
      "     96     140      60 1100000\n",
      "     97     141      61 1100001\n",
      "     98     142      62 1100010\n",
      "     99     143      63 1100011\n"
     ]
    }
   ],
   "source": [
    "w = len(str(bin(99)).replace('0b',''))\n",
    "for i in range(1,99+1):   \n",
    "    d = str(i).rjust(w,' ')\n",
    "    b = bin(i)[2:].rjust(w,' ')   ## rjust is used for line alignment\n",
    "    o = oct(i)[2:].rjust(w, ' ')\n",
    "    h = hex(i)[2:].rjust(w, ' ').upper()\n",
    "    print(d, o, h, b)"
   ]
  },
  {
   "cell_type": "code",
   "execution_count": 85,
   "metadata": {},
   "outputs": [
    {
     "name": "stdout",
     "output_type": "stream",
     "text": [
      "0b1100011\n",
      "0o143\n",
      "0x63\n"
     ]
    }
   ],
   "source": [
    "b = bin(99)\n",
    "print(b)\n",
    "o=oct(99)\n",
    "print(o)\n",
    "print(hex(99))"
   ]
  },
  {
   "cell_type": "code",
   "execution_count": null,
   "metadata": {},
   "outputs": [],
   "source": []
  }
 ],
 "metadata": {
  "kernelspec": {
   "display_name": "Python 3",
   "language": "python",
   "name": "python3"
  },
  "language_info": {
   "codemirror_mode": {
    "name": "ipython",
    "version": 3
   },
   "file_extension": ".py",
   "mimetype": "text/x-python",
   "name": "python",
   "nbconvert_exporter": "python",
   "pygments_lexer": "ipython3",
   "version": "3.7.3"
  }
 },
 "nbformat": 4,
 "nbformat_minor": 2
}
