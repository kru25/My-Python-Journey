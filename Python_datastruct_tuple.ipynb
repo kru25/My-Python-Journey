{
 "cells": [
  {
   "cell_type": "code",
   "execution_count": 5,
   "metadata": {},
   "outputs": [
    {
     "name": "stdout",
     "output_type": "stream",
     "text": [
      "1\n",
      "0\n"
     ]
    }
   ],
   "source": [
    "dir(tuple)\n",
    "tup=(1,2,3,4,5)\n",
    "print(tup.count(2))\n",
    "print(tup.index(1))\n"
   ]
  },
  {
   "cell_type": "code",
   "execution_count": 41,
   "metadata": {},
   "outputs": [
    {
     "name": "stdout",
     "output_type": "stream",
     "text": [
      "('1', '2', '3')\n",
      "('Krut', 1, 'e', 5, 6, 7)\n",
      "2\n",
      "123\n",
      "('1', '2', '3', 5)\n",
      "123\n",
      "4\n",
      "7\n",
      "(4, 5, 6)\n",
      "3\n",
      "number8\n",
      "present\n",
      "(1, 2, 3, 4, 5)\n"
     ]
    }
   ],
   "source": [
    "#create tuple\n",
    "tup=(\"1\",\"2\",\"3\")\n",
    "print(tup)\n",
    "tupdiff=(\"Krut\",1,\"e\",5,6,7)\n",
    "print(tupdiff)\n",
    "print(random.choice(tup)) # select 1 item from tuple\n",
    "n1,n2,n3=tup # unpacking tuple\n",
    "print(n1+n2+n3)\n",
    "lis=list(tup)\n",
    "lis.append(5)\n",
    "lis=tuple(lis)\n",
    "print(lis)\n",
    "st=\"\".join(tup) # tuple to string possible only if initial tuple has characters of string(in \"\")\n",
    "print(st)\n",
    "tupi=(1,2,3,4,5,6,7,7,5,7,8)\n",
    "print(tupi[3])# first 4 element\n",
    "print(tupi[-4])# last 4 element\n",
    "print(tupi[3:6])#slicing tuple\n",
    "print(tupi.count(7))# repeated items in tuple\n",
    "i=input(\"number\")\n",
    "i=int(i)\n",
    "if(i in tupi): # check if item is present in tuple\n",
    "    print(\"present\")\n",
    "else:\n",
    "    print(\"absent\")\n",
    "li=[1,2,3,4,5] # list into tuple\n",
    "tupie=tuple(li)\n",
    "print(tupie)"
   ]
  },
  {
   "cell_type": "code",
   "execution_count": 48,
   "metadata": {},
   "outputs": [
    {
     "name": "stdout",
     "output_type": "stream",
     "text": [
      "item6\n",
      "(1, 3, 5, 7, 2)\n",
      "(2, 3, 4)\n",
      "1\n",
      "5\n"
     ]
    }
   ],
   "source": [
    "# remove from tuple\n",
    "i=input(\"item\")\n",
    "i=int(i)\n",
    "tupi=(1,3,5,6,7,2)\n",
    "li=list(tupi)\n",
    "del li[li.index(i)]\n",
    "tupi=tuple(li)\n",
    "print(tupi)\n",
    "#slice a tuple\n",
    "print((1,2,3,4,5,6,7)[slice(1,4)])# slice tuple\n",
    "#index in a tuple\n",
    "print(tupi.index(3))\n",
    "print(len(tupi))"
   ]
  },
  {
   "cell_type": "code",
   "execution_count": 79,
   "metadata": {},
   "outputs": [
    {
     "name": "stdout",
     "output_type": "stream",
     "text": [
      "{1: 'A', 2: 'B'}\n",
      "[(1, 3, 3), (2, 3, 4)]\n",
      "(6, 5, 4, 3, 1)\n",
      "{1: 2, 3: 4, 5: 6}\n"
     ]
    }
   ],
   "source": [
    "#tuple into dictionary\n",
    "tupi=((1,\"A\"),(2,\"B\"))\n",
    "dic=dict((x, y) for x, y in tupi)\n",
    "print(dic)\n",
    "#unzip list of tuples into lists\n",
    "listup=[(1,2),(3,3),(3,4)]\n",
    "print(list(zip(*listup)))\n",
    "# reverse tuple\n",
    "tup=(1,3,4,5,6)\n",
    "tupr=tuple(reversed(tup)) # need to be converted to tuple\n",
    "print(tupr)\n",
    "#list of tuples into dictionary\n",
    "ltup=[(1,2),(3,4),(5,6)]\n",
    "ltup=tuple(ltup)\n",
    "dictup=dict((x,y) for x,y in ltup)\n",
    "print(dictup)"
   ]
  },
  {
   "cell_type": "code",
   "execution_count": 83,
   "metadata": {},
   "outputs": [
    {
     "name": "stdout",
     "output_type": "stream",
     "text": [
      "[(10, 20, 100), (40, 50, 100), (70, 80, 100)]\n"
     ]
    }
   ],
   "source": [
    "#replace last values of tuples in list\n",
    "listup=[(10, 20, 40), (40, 50, 60), (70, 80, 90)]\n",
    "t=0\n",
    "for t in range(len(listup)):\n",
    "    listup[t]=list(listup[t])\n",
    "    listup[t].pop(-1)\n",
    "    listup[t].append(100)\n",
    "    listup[t]=tuple(listup[t])\n",
    "print(listup)"
   ]
  },
  {
   "cell_type": "code",
   "execution_count": 90,
   "metadata": {},
   "outputs": [
    {
     "name": "stdout",
     "output_type": "stream",
     "text": [
      "empty\n",
      "not empty\n",
      "not empty\n",
      "not empty\n",
      "not empty\n",
      "[(), ('',), ('a', 'b'), ('a', 'b', 'c'), 'd']\n"
     ]
    }
   ],
   "source": [
    "#remove an empty tuple from a list of tuples\n",
    "listup=[(), (), ('',), ('a', 'b'), ('a', 'b', 'c'), ('d')]\n",
    "for i in listup:\n",
    "    if i:\n",
    "        print(\"not empty\")\n",
    "    else:\n",
    "        listup.remove(i)\n",
    "        print(\"empty\")\n",
    "print(listup)"
   ]
  },
  {
   "cell_type": "code",
   "execution_count": 111,
   "metadata": {},
   "outputs": [
    {
     "name": "stdout",
     "output_type": "stream",
     "text": [
      "[('item3', '24.5'), ('item2', '15.10'), ('item1', '12.20')]\n"
     ]
    }
   ],
   "source": [
    "# sort a tuple by its float element\n",
    "listup=[('item1', '12.20'), ('item2', '15.10'), ('item3', '24.5')]\n",
    "listup=(sorted(listup, key=lambda x: float(x[1]), reverse=True))\n",
    "print(listup)\n",
    "    "
   ]
  },
  {
   "cell_type": "code",
   "execution_count": 117,
   "metadata": {},
   "outputs": [
    {
     "name": "stdout",
     "output_type": "stream",
     "text": [
      "4\n"
     ]
    }
   ],
   "source": [
    " #count the elements in a list until an element is a tuple\n",
    "lisr=[1,2,3,(5,6)]\n",
    "sum=0\n",
    "for i in lisr:\n",
    "    if(type(i)==\"tuple\"):\n",
    "        break\n",
    "    sum=sum+1\n",
    "print(sum)"
   ]
  },
  {
   "cell_type": "code",
   "execution_count": null,
   "metadata": {},
   "outputs": [],
   "source": []
  },
  {
   "cell_type": "code",
   "execution_count": null,
   "metadata": {},
   "outputs": [],
   "source": []
  }
 ],
 "metadata": {
  "kernelspec": {
   "display_name": "Python 3",
   "language": "python",
   "name": "python3"
  },
  "language_info": {
   "codemirror_mode": {
    "name": "ipython",
    "version": 3
   },
   "file_extension": ".py",
   "mimetype": "text/x-python",
   "name": "python",
   "nbconvert_exporter": "python",
   "pygments_lexer": "ipython3",
   "version": "3.7.3"
  }
 },
 "nbformat": 4,
 "nbformat_minor": 2
}
