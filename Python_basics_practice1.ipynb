{
 "cells": [
  {
   "cell_type": "code",
   "execution_count": 14,
   "metadata": {},
   "outputs": [
    {
     "name": "stdout",
     "output_type": "stream",
     "text": [
      "Twinkle, twinkle, little star,\n",
      "\t How I wonder what you are!\n",
      "\t\t Up above the world so high,\n",
      "\t\t Like a diamond in the sky.\n",
      "Twinkle, twinkle, little star,\n",
      "\t How I wonder what you are\n"
     ]
    }
   ],
   "source": [
    "#Program 1 \n",
    "print(\"Twinkle, twinkle, little star,\\n\\t How I wonder what you are!\\n\\t\\t Up above the world so high,\\n\\t\\t Like a diamond in the sky.\\nTwinkle, twinkle, little star,\\n\\t How I wonder what you are\")"
   ]
  },
  {
   "cell_type": "code",
   "execution_count": 18,
   "metadata": {},
   "outputs": [
    {
     "name": "stdout",
     "output_type": "stream",
     "text": [
      "2020-07-10 11:43:03.369336\n"
     ]
    }
   ],
   "source": [
    "#Program print current date and time \n",
    "import datetime\n",
    "now=datetime.datetime.now()\n",
    "print(now)"
   ]
  },
  {
   "cell_type": "code",
   "execution_count": 22,
   "metadata": {},
   "outputs": [
    {
     "name": "stdout",
     "output_type": "stream",
     "text": [
      "Enter radius5\n",
      "Area is 78.5\n"
     ]
    }
   ],
   "source": [
    "#radius and area of circle\n",
    "r=input(\"Enter radius\")\n",
    "r=float(r)\n",
    "area=3.14*r*r\n",
    "print(\"Area is\" , area)\n"
   ]
  },
  {
   "cell_type": "code",
   "execution_count": null,
   "metadata": {},
   "outputs": [],
   "source": []
  },
  {
   "cell_type": "code",
   "execution_count": 24,
   "metadata": {},
   "outputs": [
    {
     "name": "stdout",
     "output_type": "stream",
     "text": [
      "First namekrutika\n",
      "Last nametalegaonkar\n",
      "talegaonkar krutika\n"
     ]
    }
   ],
   "source": [
    "#reverse string\n",
    "a=input(\"First name\")\n",
    "b=input(\"Last name\")\n",
    "print(b , a)"
   ]
  },
  {
   "cell_type": "code",
   "execution_count": 28,
   "metadata": {},
   "outputs": [
    {
     "name": "stdout",
     "output_type": "stream",
     "text": [
      "Enter comma separated values:1,2,3,4\n",
      "list is ['1', '2', '3', '4']\n",
      "tuple is ('1', '2', '3', '4')\n"
     ]
    }
   ],
   "source": [
    "# convert into list & tuple\n",
    "values=input(\"Enter comma separated values:\")\n",
    "l=values.split(\",\")\n",
    "l=list(l)\n",
    "tup=tuple(l)\n",
    "print(\"list is\" , l)\n",
    "print(\"tuple is\" , tup)"
   ]
  },
  {
   "cell_type": "code",
   "execution_count": 32,
   "metadata": {},
   "outputs": [
    {
     "name": "stdout",
     "output_type": "stream",
     "text": [
      "File namepap.txt\n",
      "extension: txt\n"
     ]
    }
   ],
   "source": [
    "#file extension separator\n",
    "file=input(\"File name\")\n",
    "for t in range(len(file)):\n",
    "    if(file[t]==\".\"):\n",
    "        ext=file[t+1:]\n",
    "        break\n",
    "print(\"extension:\" , ext)\n"
   ]
  },
  {
   "cell_type": "code",
   "execution_count": 33,
   "metadata": {},
   "outputs": [
    {
     "name": "stdout",
     "output_type": "stream",
     "text": [
      "first: Red\n",
      "last: Black\n"
     ]
    }
   ],
   "source": [
    "#display first and last color\n",
    "color_list = [\"Red\",\"Green\",\"White\" ,\"Black\"]\n",
    "print(\"first:\", color_list[0])\n",
    "print(\"last:\" , color_list[3])"
   ]
  },
  {
   "cell_type": "code",
   "execution_count": 39,
   "metadata": {},
   "outputs": [
    {
     "name": "stdout",
     "output_type": "stream",
     "text": [
      "(11, 12, 2014)\n",
      "today's date: (11/ 12/ 2014)\n",
      "The examination will start from : 11 / 12 / 2014\n"
     ]
    }
   ],
   "source": [
    "#display the date\n",
    "exam_st_date = (11, 12, 2014)\n",
    "st=str(exam_st_date)\n",
    "print(st)\n",
    "st=st.replace(\",\",\"/\")\n",
    "print(\"today's date:\",st)\n",
    "print( \"The examination will start from : %i / %i / %i\"%exam_st_date)"
   ]
  },
  {
   "cell_type": "code",
   "execution_count": 43,
   "metadata": {},
   "outputs": [
    {
     "name": "stdout",
     "output_type": "stream",
     "text": [
      "Enter the integer n8\n",
      "the n+nn+nnn is: 984\n"
     ]
    }
   ],
   "source": [
    "# compute n+nn+nnn\n",
    "a=input(\"Enter the integer n\")\n",
    "a=int(a)\n",
    "ans=a+((a*10)+a)+((a*100)+(a*10)+a)\n",
    "print(\"the n+nn+nnn is:\" , ans)"
   ]
  },
  {
   "cell_type": "code",
   "execution_count": 44,
   "metadata": {},
   "outputs": [
    {
     "name": "stdout",
     "output_type": "stream",
     "text": [
      "enter year1996\n",
      "enter month12\n",
      "   December 1996\n",
      "Mo Tu We Th Fr Sa Su\n",
      "                   1\n",
      " 2  3  4  5  6  7  8\n",
      " 9 10 11 12 13 14 15\n",
      "16 17 18 19 20 21 22\n",
      "23 24 25 26 27 28 29\n",
      "30 31\n",
      "\n"
     ]
    }
   ],
   "source": [
    "#print calendar\n",
    "import calendar\n",
    "y=input(\"enter year\")\n",
    "y=int(y)\n",
    "m=input(\"enter month\")\n",
    "m=int(m)\n",
    "print(calendar.month(y,m))"
   ]
  },
  {
   "cell_type": "code",
   "execution_count": 46,
   "metadata": {},
   "outputs": [
    {
     "name": "stdout",
     "output_type": "stream",
     "text": [
      "1489\n"
     ]
    }
   ],
   "source": [
    "#difference between 2 days\n",
    "from datetime import date\n",
    "f_date=date(1996,12,23)\n",
    "s_date=date(1992,11,25)\n",
    "delta=f_date-s_date\n",
    "print(delta.days)"
   ]
  },
  {
   "cell_type": "code",
   "execution_count": 49,
   "metadata": {},
   "outputs": [
    {
     "name": "stdout",
     "output_type": "stream",
     "text": [
      "volume is: 904.32\n",
      "8\n"
     ]
    }
   ],
   "source": [
    "#sphere volume\n",
    "print(\"volume is:\" , (4*3.14*6*6*6)/3)"
   ]
  },
  {
   "cell_type": "code",
   "execution_count": 52,
   "metadata": {},
   "outputs": [
    {
     "name": "stdout",
     "output_type": "stream",
     "text": [
      "Number89\n",
      "difference is: 72\n",
      "144\n"
     ]
    }
   ],
   "source": [
    "#difference\n",
    "n=input(\"Number\")\n",
    "n=int(n)\n",
    "diff=n-17\n",
    "print(\"difference is:\", diff)\n",
    "if(diff>0):\n",
    "    print(2*abs(diff))\n"
   ]
  },
  {
   "cell_type": "code",
   "execution_count": null,
   "metadata": {},
   "outputs": [],
   "source": [
    "# test number\n",
    "n=input(\"Enter n\")\n",
    "n=int(n)\n",
    "if(n<=100):\n",
    "    print(\"within 100\")\n",
    "elif(n>100 & n<=1000):\n",
    "    print(\"within 1000\")\n",
    "elif(n>1000 & n<=2000):\n",
    "    print(\"within 2000\")\n",
    "else:\n",
    "    print(\"invalid\")\n"
   ]
  },
  {
   "cell_type": "code",
   "execution_count": null,
   "metadata": {},
   "outputs": [],
   "source": []
  },
  {
   "cell_type": "code",
   "execution_count": null,
   "metadata": {},
   "outputs": [],
   "source": []
  }
 ],
 "metadata": {
  "kernelspec": {
   "display_name": "Python 3",
   "language": "python",
   "name": "python3"
  },
  "language_info": {
   "codemirror_mode": {
    "name": "ipython",
    "version": 3
   },
   "file_extension": ".py",
   "mimetype": "text/x-python",
   "name": "python",
   "nbconvert_exporter": "python",
   "pygments_lexer": "ipython3",
   "version": "3.7.3"
  }
 },
 "nbformat": 4,
 "nbformat_minor": 2
}
