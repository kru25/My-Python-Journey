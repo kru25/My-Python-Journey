{
 "cells": [
  {
   "cell_type": "code",
   "execution_count": 7,
   "metadata": {},
   "outputs": [
    {
     "name": "stdout",
     "output_type": "stream",
     "text": [
      "[1, 2, 3, 'Krutika', 'ty']\n",
      "[1, 2, 3, 'Krutika', 'ty', [222, 21]]\n",
      "[1, 2, 3, 'Krutika', 'ty', [222, 21], 234, 'hghuj']\n",
      "[1, 'inserted', 2, 3, 'Krutika', 'ty', [222, 21], 234, 'hghuj']\n"
     ]
    }
   ],
   "source": [
    "my_list=[1,2,3,\"Krutika\",\"ty\"]\n",
    "print(my_list)\n",
    "my_list.append([222,21])#adds single element\n",
    "print(my_list)\n",
    "my_list.extend([234,\"hghuj\"]) #adds different element\n",
    "print(my_list)\n",
    "my_list.insert(1,\"inserted\") #inserts at specific index\n",
    "print(my_list)"
   ]
  },
  {
   "cell_type": "code",
   "execution_count": 15,
   "metadata": {},
   "outputs": [
    {
     "name": "stdout",
     "output_type": "stream",
     "text": [
      "[2, 3, 4, 5, 6, 6, 7, 8, 9, 10]\n",
      "[2, 3, 4, 6, 6, 7, 8, 9, 10]\n",
      "[2, 3, 4, 6, 7, 8, 9, 10]\n",
      "[2, 3, 6, 7, 8, 9, 10]\n",
      "[]\n"
     ]
    }
   ],
   "source": [
    "#deletion\n",
    "list2=[2,3,4,5,6,6,7,8,9,10]\n",
    "print(list2)\n",
    "del list2[3] # deletes particular index\n",
    "print(list2)\n",
    "list2.remove(6) # deletes particular element\n",
    "print(list2)\n",
    "list2.pop(2)#pops element at particular index\n",
    "print(list2)\n",
    "list2.clear()#clears the list\n",
    "print(list2)\n"
   ]
  },
  {
   "cell_type": "code",
   "execution_count": 16,
   "metadata": {},
   "outputs": [
    {
     "name": "stdout",
     "output_type": "stream",
     "text": [
      "1\n",
      "2\n",
      "3\n",
      "example\n",
      "3.132\n",
      "10\n",
      "30\n",
      "[1, 2, 3, 'example', 3.132, 10, 30]\n",
      "example\n",
      "[1, 2]\n",
      "[30, 10, 3.132, 'example', 3, 2, 1]\n"
     ]
    }
   ],
   "source": [
    "#accessing elements\n",
    "my_list = [1, 2, 3, 'example', 3.132, 10, 30]\n",
    "for element in my_list: #access elements one by one\n",
    "    print(element)\n",
    "print(my_list) #access all elements\n",
    "print(my_list[3]) #access index 3 element\n",
    "print(my_list[0:2]) #access elements from 0 to 1 and exclude 2\n",
    "print(my_list[::-1]) #access elements in reverse"
   ]
  },
  {
   "cell_type": "code",
   "execution_count": 20,
   "metadata": {},
   "outputs": [
    {
     "name": "stdout",
     "output_type": "stream",
     "text": [
      "5\n",
      "3\n",
      "1\n",
      "[1, 2, 3, 4, 5]\n",
      "[5, 4, 3, 2, 1]\n"
     ]
    }
   ],
   "source": [
    "#Other functions\n",
    "lis=[1,2,3,4,5]\n",
    "print(len(list))\n",
    "print(lis.index(4))\n",
    "print(lis.count(2))\n",
    "print(sorted(lis))\n",
    "lis.sort(reverse=True)\n",
    "print(lis)"
   ]
  },
  {
   "cell_type": "code",
   "execution_count": 27,
   "metadata": {},
   "outputs": [
    {
     "name": "stdout",
     "output_type": "stream",
     "text": [
      "sum and product are: 15 120\n",
      "Maximum,minimum element is: 5 1\n"
     ]
    }
   ],
   "source": [
    "#sum,product of all elements\n",
    "lis=[1,2,3,4,5]\n",
    "sum=0\n",
    "mult=1\n",
    "for i in lis:\n",
    "    sum=sum+i\n",
    "    mult=mult*i\n",
    "print(\"sum and product are:\" , sum , mult)\n",
    "#max,min from list\n",
    "m=max(lis)\n",
    "n=min(lis)\n",
    "print(\"Maximum,minimum element is:\", m , n)"
   ]
  },
  {
   "cell_type": "code",
   "execution_count": 33,
   "metadata": {},
   "outputs": [
    {
     "name": "stdout",
     "output_type": "stream",
     "text": [
      "2\n",
      "[(2, 1), (1, 2), (2, 3), (4, 4), (2, 5)]\n"
     ]
    }
   ],
   "source": [
    "#  count the number of strings where the string length is 2 or more and the first and last character are same from a given list of strings\n",
    "lise=['abc', 'xyz', 'aba', '1221']\n",
    "sum=0\n",
    "for i in lise:\n",
    "    if(len(i)>=2 and i[0]==i[-1]): #and for str and int both\n",
    "        sum=sum+1\n",
    "print(sum)\n",
    "#get a list, sorted in increasing order by the last element in each tuple from a given list of non-empty tuples.\n",
    "def last(n):\n",
    "    return n[-1]\n",
    "def sort_list_last(tuples):\n",
    "  return sorted(tuples, key=last)\n",
    "\n",
    "print(sort_list_last([(2, 5), (1, 2), (4, 4), (2, 3), (2, 1)]))\n",
    "        "
   ]
  },
  {
   "cell_type": "code",
   "execution_count": 41,
   "metadata": {},
   "outputs": [
    {
     "name": "stdout",
     "output_type": "stream",
     "text": [
      "[1, 2, 3, 4, 5]\n",
      "Not empty\n",
      "[1, 2, 3, 4]\n"
     ]
    }
   ],
   "source": [
    "#remove duplicates\n",
    "lise=[1,2,3,4,4,5,5]\n",
    "for i in lise:\n",
    "    if(lise.count(i)>1):\n",
    "        del lise[lise.index(i)]\n",
    "print(lise)\n",
    "#check if list is empty\n",
    "lise=[1,2,3,4,5,6]\n",
    "if not lise:\n",
    "    print(\"print empty list\")\n",
    "else:\n",
    "    print(\"Not empty\")\n",
    "#clone list\n",
    "l1=[1,2,3,4]\n",
    "l2=l1\n",
    "print(l2)"
   ]
  },
  {
   "cell_type": "code",
   "execution_count": 43,
   "metadata": {},
   "outputs": [
    {
     "name": "stdout",
     "output_type": "stream",
     "text": [
      "enter6\n",
      "list is: ['bgf', 'euruev', 'ijewwryf']\n"
     ]
    }
   ],
   "source": [
    "# find the list of words that are longer than n from a given list of words\n",
    "lis=[\"abc\",\"bgf\",\"hfvdc\",\"euruev\",\"ijewwryf\"]\n",
    "n=input(\"enter\")\n",
    "n=int(n)\n",
    "for i in lis:\n",
    "    if (len(i)<n):\n",
    "        lis.remove(i)\n",
    "print(\"list is:\" , lis)"
   ]
  },
  {
   "cell_type": "code",
   "execution_count": 5,
   "metadata": {},
   "outputs": [
    {
     "name": "stdout",
     "output_type": "stream",
     "text": [
      "['Green', 'White', 'Black']\n"
     ]
    }
   ],
   "source": [
    "#function that takes two lists and returns True if they have at least one common member.\n",
    "def comm(l1,l2):\n",
    "    for i in l1:\n",
    "        for j in l2:\n",
    "            if i==j :\n",
    "                return(\"True\")\n",
    "comm([2,3],[4,6,7])\n",
    "# print a specified list after removing the 0th, 4th and 5th elements.\n",
    "l1=['Red', 'Green', 'White', 'Black', 'Pink', 'Yellow']\n",
    "del l1[0]\n",
    "del l1[4]\n",
    "del l1[-1]\n",
    "print(l1)\n"
   ]
  },
  {
   "cell_type": "code",
   "execution_count": 6,
   "metadata": {},
   "outputs": [
    {
     "name": "stdout",
     "output_type": "stream",
     "text": [
      "[[['*', '*', '*', '*', '*', '*'], ['*', '*', '*', '*', '*', '*'], ['*', '*', '*', '*', '*', '*'], ['*', '*', '*', '*', '*', '*']], [['*', '*', '*', '*', '*', '*'], ['*', '*', '*', '*', '*', '*'], ['*', '*', '*', '*', '*', '*'], ['*', '*', '*', '*', '*', '*']], [['*', '*', '*', '*', '*', '*'], ['*', '*', '*', '*', '*', '*'], ['*', '*', '*', '*', '*', '*'], ['*', '*', '*', '*', '*', '*']]]\n"
     ]
    }
   ],
   "source": [
    "#program to generate a 3*4*6 3D array whose each element is *.\n",
    "array = [[ ['*' for col in range(6)] for col in range(4)] for row in range(3)]\n",
    "print(array)"
   ]
  },
  {
   "cell_type": "code",
   "execution_count": 7,
   "metadata": {},
   "outputs": [
    {
     "name": "stdout",
     "output_type": "stream",
     "text": [
      "[3, 5, 6, 9]\n"
     ]
    }
   ],
   "source": [
    "# print the numbers of a specified list after removing even numbers from it.\n",
    "l1=[2,3,4,5,6,6,9]\n",
    "for i in l1:\n",
    "    if(i%2==0):\n",
    "        l1.remove(i)\n",
    "print(l1)"
   ]
  },
  {
   "cell_type": "code",
   "execution_count": 10,
   "metadata": {},
   "outputs": [
    {
     "name": "stdout",
     "output_type": "stream",
     "text": [
      "[4, 7, 6, 5, 2, 6]\n"
     ]
    }
   ],
   "source": [
    "#shuffle and print a specified list.\n",
    "from random import shuffle\n",
    "l1=[2,4,5,6,7,6]\n",
    "shuffle(l1)\n",
    "print(l1)"
   ]
  },
  {
   "cell_type": "code",
   "execution_count": 20,
   "metadata": {},
   "outputs": [
    {
     "name": "stdout",
     "output_type": "stream",
     "text": [
      "120\n",
      "[5, 2, 4, 1, 3]\n",
      "[4, 3, 5, 2, 1]\n",
      "[4, 3, 1, 2, 5]\n",
      "[2, 3, 1, 5, 4]\n",
      "[3, 4, 1, 2, 5]\n",
      "[2, 5, 4, 3, 1]\n",
      "[1, 3, 4, 2, 5]\n",
      "[1, 4, 5, 3, 2]\n",
      "[2, 4, 1, 3, 5]\n",
      "[4, 5, 3, 1, 2]\n",
      "[1, 2, 3, 4, 5]\n",
      "[1, 3, 2, 4, 5]\n",
      "[2, 1, 4, 3, 5]\n",
      "[4, 1, 3, 2, 5]\n",
      "[4, 3, 1, 5, 2]\n",
      "[5, 2, 1, 4, 3]\n",
      "[5, 2, 3, 4, 1]\n",
      "[1, 3, 4, 5, 2]\n",
      "[3, 2, 1, 5, 4]\n",
      "[2, 3, 1, 4, 5]\n",
      "[2, 5, 3, 4, 1]\n",
      "[3, 2, 1, 4, 5]\n",
      "[5, 3, 1, 4, 2]\n",
      "[1, 4, 2, 5, 3]\n",
      "[3, 5, 4, 1, 2]\n",
      "[4, 2, 1, 3, 5]\n",
      "[4, 3, 5, 1, 2]\n",
      "[5, 2, 1, 4, 3]\n",
      "[2, 1, 3, 4, 5]\n",
      "[3, 2, 4, 1, 5]\n",
      "[3, 2, 1, 5, 4]\n",
      "[1, 4, 3, 5, 2]\n",
      "[3, 2, 4, 1, 5]\n",
      "[2, 4, 1, 3, 5]\n",
      "[2, 3, 4, 5, 1]\n",
      "[3, 5, 1, 4, 2]\n",
      "[5, 3, 2, 1, 4]\n",
      "[4, 5, 3, 2, 1]\n",
      "[5, 1, 2, 3, 4]\n",
      "[4, 1, 2, 3, 5]\n",
      "[1, 3, 5, 4, 2]\n",
      "[3, 4, 2, 1, 5]\n",
      "[4, 2, 5, 1, 3]\n",
      "[4, 5, 2, 3, 1]\n",
      "[4, 2, 3, 1, 5]\n",
      "[3, 1, 5, 4, 2]\n",
      "[2, 4, 5, 3, 1]\n",
      "[2, 1, 4, 3, 5]\n",
      "[4, 3, 2, 1, 5]\n",
      "[1, 4, 5, 2, 3]\n",
      "[5, 4, 2, 1, 3]\n",
      "[3, 4, 2, 5, 1]\n",
      "[5, 3, 1, 4, 2]\n",
      "[3, 4, 1, 5, 2]\n",
      "[1, 5, 2, 3, 4]\n",
      "[1, 2, 3, 5, 4]\n",
      "[2, 4, 5, 3, 1]\n",
      "[1, 4, 5, 2, 3]\n",
      "[1, 5, 2, 4, 3]\n",
      "[4, 1, 5, 2, 3]\n",
      "[4, 2, 5, 3, 1]\n",
      "[3, 2, 1, 4, 5]\n",
      "[1, 2, 4, 5, 3]\n",
      "[5, 4, 3, 1, 2]\n",
      "[3, 4, 5, 2, 1]\n",
      "[3, 5, 4, 2, 1]\n",
      "[1, 4, 3, 2, 5]\n",
      "[1, 3, 5, 4, 2]\n",
      "[5, 2, 3, 1, 4]\n",
      "[5, 2, 4, 1, 3]\n",
      "[3, 2, 1, 5, 4]\n",
      "[3, 4, 5, 1, 2]\n",
      "[4, 2, 3, 5, 1]\n",
      "[2, 1, 5, 4, 3]\n",
      "[5, 2, 3, 1, 4]\n",
      "[3, 4, 1, 2, 5]\n",
      "[1, 4, 5, 2, 3]\n",
      "[3, 4, 1, 5, 2]\n",
      "[4, 3, 1, 5, 2]\n",
      "[2, 1, 3, 5, 4]\n",
      "[4, 5, 1, 2, 3]\n",
      "[4, 2, 5, 1, 3]\n",
      "[2, 4, 1, 5, 3]\n",
      "[3, 1, 2, 4, 5]\n",
      "[2, 4, 5, 3, 1]\n",
      "[1, 3, 5, 4, 2]\n",
      "[5, 2, 1, 4, 3]\n",
      "[1, 4, 2, 5, 3]\n",
      "[2, 3, 4, 1, 5]\n",
      "[4, 5, 3, 2, 1]\n",
      "[5, 4, 3, 2, 1]\n",
      "[2, 1, 4, 5, 3]\n",
      "[4, 2, 5, 3, 1]\n",
      "[1, 2, 4, 5, 3]\n",
      "[5, 2, 1, 4, 3]\n",
      "[5, 2, 1, 4, 3]\n",
      "[3, 5, 4, 1, 2]\n",
      "[5, 3, 1, 4, 2]\n",
      "[3, 1, 5, 2, 4]\n",
      "[4, 3, 1, 5, 2]\n",
      "[2, 1, 4, 3, 5]\n",
      "[4, 1, 3, 2, 5]\n",
      "[1, 2, 4, 5, 3]\n",
      "[4, 5, 2, 3, 1]\n",
      "[3, 2, 4, 1, 5]\n",
      "[3, 1, 4, 2, 5]\n",
      "[5, 3, 1, 2, 4]\n",
      "[5, 3, 1, 4, 2]\n",
      "[3, 4, 5, 2, 1]\n",
      "[1, 4, 3, 5, 2]\n",
      "[1, 4, 3, 5, 2]\n",
      "[3, 4, 1, 5, 2]\n",
      "[4, 3, 2, 1, 5]\n",
      "[4, 1, 5, 3, 2]\n",
      "[2, 5, 1, 3, 4]\n",
      "[3, 2, 4, 5, 1]\n",
      "[5, 2, 1, 4, 3]\n",
      "[2, 1, 5, 4, 3]\n",
      "[5, 2, 4, 3, 1]\n"
     ]
    }
   ],
   "source": [
    "#generate all permutations in a list\n",
    "l1=[1,2,3,4,5]\n",
    "nper=1\n",
    "for i in range(1,len(l1)+1):\n",
    "    nper=nper*i\n",
    "print(nper)\n",
    "from random import shuffle\n",
    "for j in range(1,nper):\n",
    "    shuffle(l1)\n",
    "    print(l1)\n"
   ]
  },
  {
   "cell_type": "code",
   "execution_count": 23,
   "metadata": {},
   "outputs": [
    {
     "name": "stdout",
     "output_type": "stream",
     "text": [
      "difference is:  [6, 7, 1, 4]\n"
     ]
    }
   ],
   "source": [
    "#get the difference between the two lists\n",
    "l1=[2,3,5,6,7]\n",
    "l2=[1,2,3,4,5]\n",
    "diff1=list(set(l1)-set(l2))\n",
    "diff2=list(set(l2)-set(l1))\n",
    "diff=diff1+diff2\n",
    "print(\"difference is: \" , diff)"
   ]
  },
  {
   "cell_type": "code",
   "execution_count": null,
   "metadata": {},
   "outputs": [],
   "source": [
    "#access the index of list\n",
    "l1=[1,2,3,4,5,6,6,7]\n",
    "for i,index in enumerate(l1): #it adds a reference to iterable object\n",
    "    print(i,index)\n",
    "# convert a list of characters into a string. \n",
    "l1=[\"a\",\"b\",\"c\",\"d\",\"ss\"]\n",
    "st=''.join(l1) #joins element of a list by \" \" to a string\n",
    "print(st)\n",
    "#find the index of an item in a specified list.\n",
    "l1=[1,2,3,3,4,4,5]\n",
    "n=input(\"Item\")\n",
    "n=int(n)\n",
    "for i in range(len(l1)):\n",
    "    if(l1[i]==n):\n",
    "        print(\"index=\" , i)"
   ]
  },
  {
   "cell_type": "code",
   "execution_count": null,
   "metadata": {},
   "outputs": [],
   "source": [
    "#flatten the list\n",
    "l1=[2,[2,3,4],[3,4,5]]\n",
    "for i in l1:\n",
    "    if(len(i)>1):\n",
    "        for j in i:\n",
    "            l1.append(j)\n",
    "        l1.remove(i)\n",
    "print(l1)\n",
    "        "
   ]
  },
  {
   "cell_type": "code",
   "execution_count": null,
   "metadata": {},
   "outputs": [],
   "source": []
  }
 ],
 "metadata": {
  "kernelspec": {
   "display_name": "Python 3",
   "language": "python",
   "name": "python3"
  },
  "language_info": {
   "codemirror_mode": {
    "name": "ipython",
    "version": 3
   },
   "file_extension": ".py",
   "mimetype": "text/x-python",
   "name": "python",
   "nbconvert_exporter": "python",
   "pygments_lexer": "ipython3",
   "version": "3.7.3"
  }
 },
 "nbformat": 4,
 "nbformat_minor": 2
}
