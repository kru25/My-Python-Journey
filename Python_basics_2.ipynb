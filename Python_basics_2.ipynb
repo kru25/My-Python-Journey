{
 "cells": [
  {
   "cell_type": "code",
   "execution_count": 1,
   "metadata": {},
   "outputs": [
    {
     "name": "stdout",
     "output_type": "stream",
     "text": [
      "1\n",
      "2\n",
      "3\n",
      "4\n",
      "end of the loop\n"
     ]
    }
   ],
   "source": [
    "#loops #while with break\n",
    "i=1\n",
    "while(i<8):\n",
    "    print(i)\n",
    "    i=i+1\n",
    "    if(i==5):\n",
    "        break\n",
    "print(\"end of the loop\")"
   ]
  },
  {
   "cell_type": "code",
   "execution_count": 5,
   "metadata": {},
   "outputs": [
    {
     "name": "stdout",
     "output_type": "stream",
     "text": [
      "2\n",
      "3\n",
      "4\n",
      "6\n",
      "7\n",
      "8\n",
      "end of the loop\n"
     ]
    }
   ],
   "source": [
    "#while with continue\n",
    "i=1\n",
    "while(i<8):\n",
    "    i=i+1\n",
    "    if(i==5):\n",
    "        continue\n",
    "    print(i)\n",
    "print(\"end of the loop\")"
   ]
  },
  {
   "cell_type": "code",
   "execution_count": 6,
   "metadata": {},
   "outputs": [
    {
     "name": "stdout",
     "output_type": "stream",
     "text": [
      "3\n",
      "4\n"
     ]
    }
   ],
   "source": [
    "# for loop\n",
    "for i in range(3,5):\n",
    "    print(i)\n",
    "    "
   ]
  },
  {
   "cell_type": "code",
   "execution_count": 27,
   "metadata": {},
   "outputs": [
    {
     "name": "stdout",
     "output_type": "stream",
     "text": [
      "2\n",
      "101\n",
      "7.38905609893065\n",
      "2.0\n",
      "3\n",
      "0.6931471805599453\n",
      "4\n",
      "5\n",
      "8.0\n",
      "3\n",
      "1.4142135623730951\n"
     ]
    }
   ],
   "source": [
    "#mathematical functions\n",
    "x=2\n",
    "print(abs(x))# absolute\n",
    "import math\n",
    "print(math.ceil(100.23))#rounding to 1 integer more\n",
    "print(math.exp(x))#exponential\n",
    "print(math.fabs(x))#absolute\n",
    "print(math.floor(3.4))#one integer less\n",
    "print(math.log(x))#logarithm\n",
    "print(max(2,3,4))#maximum\n",
    "print(min(5,6,7))#minimum\n",
    "print(math.pow(2,3))#power\n",
    "print(round(3.4))# round off\n",
    "print(math.sqrt(x))#square root"
   ]
  },
  {
   "cell_type": "code",
   "execution_count": 34,
   "metadata": {},
   "outputs": [
    {
     "name": "stdout",
     "output_type": "stream",
     "text": [
      "0.0\n",
      "1.5707963267948966\n",
      "1.3258176636680326\n",
      "0.8939966636005579\n",
      "-0.11038724383904756\n",
      "171.88733853924697\n",
      "0.05235987755982989\n"
     ]
    }
   ],
   "source": [
    "#Trigonometric functions\n",
    "print(math.acos(1))\n",
    "print(math.asin(1))\n",
    "print(math.atan(4))\n",
    "print(math.sin(90))\n",
    "print(math.cos(80))\n",
    "print(math.degrees(3))\n",
    "print(math.radians(3))"
   ]
  },
  {
   "cell_type": "code",
   "execution_count": 46,
   "metadata": {},
   "outputs": [
    {
     "name": "stdout",
     "output_type": "stream",
     "text": [
      "6\n",
      "0.37876188309774095\n",
      "4.589806876826138\n"
     ]
    }
   ],
   "source": [
    "#random number functions\n",
    "import random\n",
    "print(random.randrange(2,7,1))\n",
    "print(random.random())\n",
    "l=random.shuffle([5,3,45,5])\n",
    "print(random.uniform(3,6))"
   ]
  },
  {
   "cell_type": "code",
   "execution_count": 52,
   "metadata": {},
   "outputs": [
    {
     "name": "stdout",
     "output_type": "stream",
     "text": [
      "e\n",
      "ell\n",
      "ello\n",
      "HelloProgram\n",
      "15\n",
      " Deep learning \n",
      "Deep learning\n",
      "DEEP LEARNING\n",
      "deep learning\n",
      "Deep Learning\n",
      "['Deep', 'learning']\n"
     ]
    }
   ],
   "source": [
    "#strings\n",
    "a=\"Hello\"\n",
    "b=\"Program\"\n",
    "print(a[1])\n",
    "print(a[1:4])\n",
    "print(a[1:])\n",
    "print(a+b)\n",
    "a = \" Deep learning \"\n",
    "print(len(a))\n",
    "b = a.strip()\n",
    "print(a)\n",
    "print(b)\n",
    "print(b.upper())\n",
    "print(b.lower())\n",
    "print(b.replace(\"l\", \"L\"))\n",
    "print(b.split(\" \"))"
   ]
  },
  {
   "cell_type": "code",
   "execution_count": 72,
   "metadata": {},
   "outputs": [
    {
     "name": "stdout",
     "output_type": "stream",
     "text": [
      "[1, 2, 3, 4, 6, 7, 5]\n",
      "1\n",
      "2\n",
      "3\n",
      "4\n",
      "4\n",
      "1\n",
      "4\n",
      "[1, 2, 3, 4, 6]\n",
      "1\n",
      "[1, 2, 3, 4, 6, 9, 10, 11, 12]\n",
      "[1, 2, 3, 6, 9, 10, 11, 12, 3]\n",
      "[3, 12, 11, 10, 9, 6, 3, 2, 1]\n"
     ]
    }
   ],
   "source": [
    "#list\n",
    "l=[1,2,3,4]\n",
    "l1=[6,7,5]\n",
    "print(l+l1)\n",
    "for i in l:\n",
    "    print(i)\n",
    "print(len(l))\n",
    "print(min(l))\n",
    "print(max(l))\n",
    "l.append(6)\n",
    "print(l)\n",
    "print(l.count(2))\n",
    "l.extend([9,10,11,12])\n",
    "print(l)\n",
    "l.index(4)\n",
    "l.insert(12,3)\n",
    "l.remove(4)\n",
    "print(l)\n",
    "l.reverse()\n",
    "print(l)"
   ]
  },
  {
   "cell_type": "code",
   "execution_count": 76,
   "metadata": {},
   "outputs": [
    {
     "name": "stdout",
     "output_type": "stream",
     "text": [
      "4\n",
      "5\n",
      "1\n",
      "(2, 6, 7, 8)\n"
     ]
    }
   ],
   "source": [
    "#tuple\n",
    "tup=(1,3,4,5)\n",
    "print(len(tup))\n",
    "print(max(tup))\n",
    "print(min(tup))\n",
    "l=[2,6,7,8]\n",
    "m=tuple(l)\n",
    "print(m)"
   ]
  },
  {
   "cell_type": "code",
   "execution_count": 80,
   "metadata": {},
   "outputs": [
    {
     "name": "stdout",
     "output_type": "stream",
     "text": [
      "B\n",
      "dict_keys([1, 2, 3])\n",
      "dict_values(['A', 'B', 'C'])\n"
     ]
    }
   ],
   "source": [
    "#dictionary\n",
    "dict={1:\"A\",2:\"B\",3:\"C\"}\n",
    "print(dict[2])\n",
    "len(dict[1])\n",
    "print(dict.keys())\n",
    "print(dict.values())\n"
   ]
  },
  {
   "cell_type": "code",
   "execution_count": 88,
   "metadata": {},
   "outputs": [
    {
     "name": "stdout",
     "output_type": "stream",
     "text": [
      "I love you\n",
      "before addition [1, 2, 3, 4]\n",
      "after addition [1, 2, 3, 4, 6]\n",
      "[1, 2, 3, 4, 6]\n"
     ]
    }
   ],
   "source": [
    "str=\"I love you\"\n",
    "def func(str):\n",
    "    print(str)\n",
    "func(str)\n",
    "def plus(list):\n",
    "    print(\"before addition\",list)\n",
    "    list.append(6)\n",
    "    print(\"after addition\",list)\n",
    "list=[1,2,3,4]\n",
    "plus(list)\n",
    "print(list)"
   ]
  },
  {
   "cell_type": "code",
   "execution_count": 89,
   "metadata": {},
   "outputs": [
    {
     "name": "stdout",
     "output_type": "stream",
     "text": [
      "My name Krutika\n",
      "My age 23\n"
     ]
    }
   ],
   "source": [
    "def order(name,age):\n",
    "    print(\"My name\",name)\n",
    "    print(\"My age\",age)\n",
    "order(\"Krutika\",23)"
   ]
  },
  {
   "cell_type": "code",
   "execution_count": 93,
   "metadata": {},
   "outputs": [
    {
     "name": "stdout",
     "output_type": "stream",
     "text": [
      "output is  10\n",
      "output is  1\n",
      "2\n",
      "3\n",
      "4\n",
      "5\n"
     ]
    }
   ],
   "source": [
    "# variable length arguments\n",
    "def vararg(arg1,*variarg):\n",
    "    print(\"output is \",arg1)\n",
    "    for i in variarg:\n",
    "        print(i)\n",
    "vararg(10)\n",
    "vararg(1,2,3,4,5)"
   ]
  },
  {
   "cell_type": "code",
   "execution_count": 95,
   "metadata": {},
   "outputs": [
    {
     "name": "stdout",
     "output_type": "stream",
     "text": [
      "5\n",
      "11\n"
     ]
    }
   ],
   "source": [
    "#Anonymous function\n",
    "multi=lambda a,b : a+b\n",
    "print(multi(2,3))\n",
    "print(multi(7,4))"
   ]
  },
  {
   "cell_type": "code",
   "execution_count": 100,
   "metadata": {},
   "outputs": [
    {
     "name": "stdout",
     "output_type": "stream",
     "text": [
      "sum is 13\n",
      "total value outside function is  10\n"
     ]
    }
   ],
   "source": [
    "total=10\n",
    "def addition(a,b):\n",
    "    \n",
    "    total=a+b\n",
    "    print(\"sum is\",total)\n",
    "\n",
    "addition(0,13)\n",
    "print(\"total value outside function is \",total)"
   ]
  },
  {
   "cell_type": "code",
   "execution_count": 106,
   "metadata": {},
   "outputs": [
    {
     "name": "stdout",
     "output_type": "stream",
     "text": [
      "5040\n"
     ]
    }
   ],
   "source": [
    "#recursion\n",
    "def fact(n):\n",
    "    if(n==1):\n",
    "        return n \n",
    "    else:\n",
    "        return(n*fact(n-1))\n",
    "ans=fact(7)\n",
    "print(ans)"
   ]
  },
  {
   "cell_type": "code",
   "execution_count": 107,
   "metadata": {},
   "outputs": [
    {
     "data": {
      "text/plain": [
       "['__doc__',\n",
       " '__loader__',\n",
       " '__name__',\n",
       " '__package__',\n",
       " '__spec__',\n",
       " 'acos',\n",
       " 'acosh',\n",
       " 'asin',\n",
       " 'asinh',\n",
       " 'atan',\n",
       " 'atan2',\n",
       " 'atanh',\n",
       " 'ceil',\n",
       " 'copysign',\n",
       " 'cos',\n",
       " 'cosh',\n",
       " 'degrees',\n",
       " 'e',\n",
       " 'erf',\n",
       " 'erfc',\n",
       " 'exp',\n",
       " 'expm1',\n",
       " 'fabs',\n",
       " 'factorial',\n",
       " 'floor',\n",
       " 'fmod',\n",
       " 'frexp',\n",
       " 'fsum',\n",
       " 'gamma',\n",
       " 'gcd',\n",
       " 'hypot',\n",
       " 'inf',\n",
       " 'isclose',\n",
       " 'isfinite',\n",
       " 'isinf',\n",
       " 'isnan',\n",
       " 'ldexp',\n",
       " 'lgamma',\n",
       " 'log',\n",
       " 'log10',\n",
       " 'log1p',\n",
       " 'log2',\n",
       " 'modf',\n",
       " 'nan',\n",
       " 'pi',\n",
       " 'pow',\n",
       " 'radians',\n",
       " 'remainder',\n",
       " 'sin',\n",
       " 'sinh',\n",
       " 'sqrt',\n",
       " 'tan',\n",
       " 'tanh',\n",
       " 'tau',\n",
       " 'trunc']"
      ]
     },
     "execution_count": 107,
     "metadata": {},
     "output_type": "execute_result"
    }
   ],
   "source": [
    "#Module \n",
    "import math\n",
    "dir(math)"
   ]
  },
  {
   "cell_type": "code",
   "execution_count": 112,
   "metadata": {},
   "outputs": [
    {
     "name": "stdout",
     "output_type": "stream",
     "text": [
      "[1, 1, 2, 3, 5, 8, 13, 21, 34, 55, 89]\n"
     ]
    }
   ],
   "source": [
    "#Within a module, the module’s name (as a string) is available as the value of the global variable __name__. \n",
    "#The code in the module will be executed, just as if you imported it, but with the __name__ set to \"__main__\".\n",
    "def fib(n): # return Fibonacci series up to n\n",
    "   result = []\n",
    "   a, b = 0, 1\n",
    "   while b < n:\n",
    "      result.append(b)\n",
    "      a, b = b, a + b\n",
    "   return result\n",
    "if __name__ == \"__main__\":\n",
    "   f = fib(100)\n",
    "   print(f)"
   ]
  },
  {
   "cell_type": "code",
   "execution_count": 7,
   "metadata": {},
   "outputs": [
    {
     "name": "stdout",
     "output_type": "stream",
     "text": [
      "('A', 'B', 'C')\n",
      "[1, 2, 3]\n"
     ]
    },
    {
     "ename": "TypeError",
     "evalue": "'dict' object is not callable",
     "output_type": "error",
     "traceback": [
      "\u001b[1;31m---------------------------------------------------------------------------\u001b[0m",
      "\u001b[1;31mTypeError\u001b[0m                                 Traceback (most recent call last)",
      "\u001b[1;32m<ipython-input-7-c650ca78348c>\u001b[0m in \u001b[0;36m<module>\u001b[1;34m\u001b[0m\n\u001b[0;32m      5\u001b[0m \u001b[0mprint\u001b[0m\u001b[1;33m(\u001b[0m\u001b[0mb\u001b[0m\u001b[1;33m)\u001b[0m\u001b[1;33m\u001b[0m\u001b[1;33m\u001b[0m\u001b[0m\n\u001b[0;32m      6\u001b[0m \u001b[0mc\u001b[0m\u001b[1;33m=\u001b[0m\u001b[1;33m[\u001b[0m\u001b[1;36m1\u001b[0m\u001b[1;33m,\u001b[0m\u001b[1;36m2\u001b[0m\u001b[1;33m,\u001b[0m\u001b[1;36m3\u001b[0m\u001b[1;33m,\u001b[0m\u001b[1;36m4\u001b[0m\u001b[1;33m]\u001b[0m\u001b[1;33m\u001b[0m\u001b[1;33m\u001b[0m\u001b[0m\n\u001b[1;32m----> 7\u001b[1;33m \u001b[0md\u001b[0m\u001b[1;33m=\u001b[0m\u001b[0mdict\u001b[0m\u001b[1;33m(\u001b[0m\u001b[0ma\u001b[0m\u001b[1;33m)\u001b[0m\u001b[1;33m\u001b[0m\u001b[1;33m\u001b[0m\u001b[0m\n\u001b[0m\u001b[0;32m      8\u001b[0m \u001b[0mprint\u001b[0m\u001b[1;33m(\u001b[0m\u001b[0md\u001b[0m\u001b[1;33m)\u001b[0m\u001b[1;33m\u001b[0m\u001b[1;33m\u001b[0m\u001b[0m\n",
      "\u001b[1;31mTypeError\u001b[0m: 'dict' object is not callable"
     ]
    }
   ],
   "source": [
    "dict={1:\"A\",2:\"B\",3:\"C\"}\n",
    "a=tuple(dict.values())\n",
    "print(a)\n",
    "b=list(dict)\n",
    "print(b)\n",
    "c=[1,2,3,4]"
   ]
  },
  {
   "cell_type": "code",
   "execution_count": 6,
   "metadata": {},
   "outputs": [
    {
     "name": "stdout",
     "output_type": "stream",
     "text": [
      "1.4\n"
     ]
    }
   ],
   "source": [
    "a=1\n",
    "b=1.4\n",
    "c=str(b)\n",
    "print(c)"
   ]
  },
  {
   "cell_type": "code",
   "execution_count": 9,
   "metadata": {},
   "outputs": [
    {
     "name": "stdout",
     "output_type": "stream",
     "text": [
      "Hellokru\n",
      "kru\n",
      "hi10\n",
      "<class 'str'>\n"
     ]
    }
   ],
   "source": [
    "#I/O\n",
    "a=input(\"Hello\") # input will be always string\n",
    "print(a)\n",
    "b=input(\"hi\")\n",
    "print(type(b))"
   ]
  },
  {
   "cell_type": "code",
   "execution_count": 28,
   "metadata": {},
   "outputs": [
    {
     "name": "stdout",
     "output_type": "stream",
     "text": [
      "AABCFf\n"
     ]
    }
   ],
   "source": [
    "#opening and closing files\n",
    "fo=open(\"file_op.txt\",\"r\") #opening text file \n",
    "contents=fo.read()\n",
    "print(contents)"
   ]
  },
  {
   "cell_type": "code",
   "execution_count": 32,
   "metadata": {},
   "outputs": [
    {
     "name": "stdout",
     "output_type": "stream",
     "text": [
      "A sad girl\n"
     ]
    }
   ],
   "source": [
    "#writing into files\n",
    "fo=open(\"file_op.txt\",\"w\")# writing into text file\n",
    "fo.write(\"A sad girl\")\n",
    "fo.close()\n",
    "fo=open(\"file_op.txt\",\"r\")\n",
    "contents=fo.read()\n",
    "print(contents)"
   ]
  },
  {
   "cell_type": "code",
   "execution_count": null,
   "metadata": {},
   "outputs": [],
   "source": []
  }
 ],
 "metadata": {
  "kernelspec": {
   "display_name": "Python 3",
   "language": "python",
   "name": "python3"
  },
  "language_info": {
   "codemirror_mode": {
    "name": "ipython",
    "version": 3
   },
   "file_extension": ".py",
   "mimetype": "text/x-python",
   "name": "python",
   "nbconvert_exporter": "python",
   "pygments_lexer": "ipython3",
   "version": "3.7.3"
  }
 },
 "nbformat": 4,
 "nbformat_minor": 2
}
