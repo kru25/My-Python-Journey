{
 "cells": [
  {
   "cell_type": "code",
   "execution_count": 2,
   "metadata": {},
   "outputs": [
    {
     "data": {
      "text/plain": [
       "['JSONDecodeError',\n",
       " 'JSONDecoder',\n",
       " 'JSONEncoder',\n",
       " '__all__',\n",
       " '__author__',\n",
       " '__builtins__',\n",
       " '__cached__',\n",
       " '__doc__',\n",
       " '__file__',\n",
       " '__loader__',\n",
       " '__name__',\n",
       " '__package__',\n",
       " '__path__',\n",
       " '__spec__',\n",
       " '__version__',\n",
       " '_default_decoder',\n",
       " '_default_encoder',\n",
       " 'codecs',\n",
       " 'decoder',\n",
       " 'detect_encoding',\n",
       " 'dump',\n",
       " 'dumps',\n",
       " 'encoder',\n",
       " 'load',\n",
       " 'loads',\n",
       " 'scanner']"
      ]
     },
     "execution_count": 2,
     "metadata": {},
     "output_type": "execute_result"
    }
   ],
   "source": [
    "import json\n",
    "dir(json)"
   ]
  },
  {
   "cell_type": "code",
   "execution_count": 5,
   "metadata": {},
   "outputs": [
    {
     "name": "stdout",
     "output_type": "stream",
     "text": [
      "30\n"
     ]
    }
   ],
   "source": [
    "#conversion from json to python\n",
    "import json\n",
    "x = '{ \"name\":\"John\", \"age\":30, \"city\":\"New York\" }'\n",
    "y = json.loads(x)\n",
    "print(y[\"age\"])\n"
   ]
  },
  {
   "cell_type": "code",
   "execution_count": 7,
   "metadata": {},
   "outputs": [
    {
     "name": "stdout",
     "output_type": "stream",
     "text": [
      "{\"name\": \"John\", \"age\": 30, \"city\": \"New York\"}\n"
     ]
    }
   ],
   "source": [
    "#conversion from python to json\n",
    "x = {\n",
    "  \"name\": \"John\",\n",
    "  \"age\": 30,\n",
    "  \"city\": \"New York\"\n",
    "}\n",
    "y = json.dumps(x)\n",
    "print(y)"
   ]
  },
  {
   "cell_type": "code",
   "execution_count": 11,
   "metadata": {},
   "outputs": [
    {
     "name": "stdout",
     "output_type": "stream",
     "text": [
      "{\"name\": \"John\", \"age\": 30}\n",
      "[\"apple\", \"bananas\"]\n",
      "[\"apple\", \"bananas\"]\n",
      "\"hello\"\n",
      "42\n",
      "31.76\n",
      "true\n",
      "false\n",
      "null\n",
      "{\n",
      "    \"name\": \"John\",\n",
      "    \"age\": 30,\n",
      "    \"city\": \"New York\"\n",
      "}\n",
      "{\n",
      "    \"age\": 30,\n",
      "    \"city\": \"New York\",\n",
      "    \"name\": \"John\"\n",
      "}\n"
     ]
    }
   ],
   "source": [
    "print(json.dumps({\"name\": \"John\", \"age\": 30})) #dictionary into json\n",
    "print(json.dumps([\"apple\", \"bananas\"])) #list\n",
    "print(json.dumps((\"apple\", \"bananas\")))#tuple\n",
    "print(json.dumps(\"hello\"))#string\n",
    "print(json.dumps(42))\n",
    "print(json.dumps(31.76))\n",
    "print(json.dumps(True))\n",
    "print(json.dumps(False))\n",
    "print(json.dumps(None))\n",
    "print(json.dumps(x, indent=4))\n",
    "print(json.dumps(x, indent=4, sort_keys=True))\n",
    "\n"
   ]
  },
  {
   "cell_type": "code",
   "execution_count": 13,
   "metadata": {},
   "outputs": [
    {
     "name": "stdout",
     "output_type": "stream",
     "text": [
      "json dict :  {\"name\": \"David\", \"age\": 6, \"class\": \"I\"}\n",
      "jason list :  [\"Red\", \"Green\", \"Black\"]\n",
      "json string :  \"Python Json\"\n",
      "json number1 :  1234\n",
      "json number2 :  21.34\n",
      "json true :  true\n",
      "json false :  false\n",
      "json null ;  null\n"
     ]
    }
   ],
   "source": [
    "#Python objects into JSON strings\n",
    "import json\n",
    "python_dict =  {\"name\": \"David\", \"age\": 6, \"class\":\"I\"}\n",
    "python_list =  [\"Red\", \"Green\", \"Black\"]\n",
    "python_str =  \"Python Json\"\n",
    "python_int =  (1234)\n",
    "python_float =  (21.34)\n",
    "python_T =  (True)\n",
    "python_F =  (False)\n",
    "python_N =  (None)\n",
    "json_dict = json.dumps(python_dict)\n",
    "json_list = json.dumps(python_list)\n",
    "json_str = json.dumps(python_str)\n",
    "json_num1 = json.dumps(python_int)\n",
    "json_num2 = json.dumps(python_float)\n",
    "json_t = json.dumps(python_T)\n",
    "json_f = json.dumps(python_F)\n",
    "json_n = json.dumps(python_N)\n",
    "print(\"json dict : \", json_dict)\n",
    "print(\"jason list : \", json_list)\n",
    "print(\"json string : \", json_str)\n",
    "print(\"json number1 : \", json_num1)\n",
    "print(\"json number2 : \", json_num2)\n",
    "print(\"json true : \", json_t)\n",
    "print(\"json false : \", json_f)\n",
    "print(\"json null ; \", json_n)"
   ]
  },
  {
   "cell_type": "code",
   "execution_count": 15,
   "metadata": {},
   "outputs": [
    {
     "name": "stdout",
     "output_type": "stream",
     "text": [
      "{\"A\": 5, \"B\": 1, \"C\": 2}\n"
     ]
    }
   ],
   "source": [
    "# Python dictionary object (sort by key) to JSON data.\n",
    "python_dic={\"B\":1,\"C\":2,\"A\":5}\n",
    "import json\n",
    "json_data=json.dumps(python_dic,sort_keys=True)\n",
    "print(json_data)\n"
   ]
  },
  {
   "cell_type": "code",
   "execution_count": 18,
   "metadata": {},
   "outputs": [
    {
     "name": "stdout",
     "output_type": "stream",
     "text": [
      "Python dictionary:  {'name': 'David', 'age': 6, 'class': 'I'}\n",
      "Python list:  ['Red', 'Green', 'Black']\n",
      "Python string:  Python Json\n",
      "Python integer:  1234\n",
      "Python float:  21.34\n"
     ]
    }
   ],
   "source": [
    "#JSON encoded data into Python \n",
    "import json\n",
    "jobj_dict =  '{\"name\": \"David\", \"age\": 6, \"class\": \"I\"}'   #JSOn objects always in single quotes\n",
    "jobj_list =   '[\"Red\", \"Green\", \"Black\"]'\n",
    "jobj_string = '\"Python Json\"'\n",
    "jobj_int = '1234'\n",
    "jobj_float =  '21.34'\n",
    "python_dict =  json.loads(jobj_dict)\n",
    "python_list = json.loads(jobj_list)\n",
    "python_str =  json.loads(jobj_string)\n",
    "python_int =   json.loads(jobj_int)\n",
    "python_float = json.loads(jobj_float)\n",
    "\n",
    "print(\"Python dictionary: \", python_dict)\n",
    "print(\"Python list: \", python_list)\n",
    "print(\"Python string: \", python_str)\n",
    "print(\"Python integer: \", python_int)\n",
    "print(\"Python float: \", python_float)"
   ]
  },
  {
   "cell_type": "code",
   "execution_count": 19,
   "metadata": {},
   "outputs": [
    {
     "ename": "FileNotFoundError",
     "evalue": "[Errno 2] No such file or directory: 'states.json'",
     "output_type": "error",
     "traceback": [
      "\u001b[1;31m---------------------------------------------------------------------------\u001b[0m",
      "\u001b[1;31mFileNotFoundError\u001b[0m                         Traceback (most recent call last)",
      "\u001b[1;32m<ipython-input-19-41fc81558ab7>\u001b[0m in \u001b[0;36m<module>\u001b[1;34m\u001b[0m\n\u001b[0;32m      2\u001b[0m \u001b[1;32mimport\u001b[0m \u001b[0mjson\u001b[0m\u001b[1;33m\u001b[0m\u001b[1;33m\u001b[0m\u001b[0m\n\u001b[0;32m      3\u001b[0m \u001b[1;33m\u001b[0m\u001b[0m\n\u001b[1;32m----> 4\u001b[1;33m \u001b[1;32mwith\u001b[0m \u001b[0mopen\u001b[0m\u001b[1;33m(\u001b[0m\u001b[1;34m'states.json'\u001b[0m\u001b[1;33m)\u001b[0m \u001b[1;32mas\u001b[0m \u001b[0mf\u001b[0m\u001b[1;33m:\u001b[0m\u001b[1;33m\u001b[0m\u001b[1;33m\u001b[0m\u001b[0m\n\u001b[0m\u001b[0;32m      5\u001b[0m     \u001b[0mstate_data\u001b[0m\u001b[1;33m=\u001b[0m \u001b[0mjson\u001b[0m\u001b[1;33m.\u001b[0m\u001b[0mload\u001b[0m\u001b[1;33m(\u001b[0m\u001b[0mf\u001b[0m\u001b[1;33m)\u001b[0m\u001b[1;33m\u001b[0m\u001b[1;33m\u001b[0m\u001b[0m\n\u001b[0;32m      6\u001b[0m \u001b[1;33m\u001b[0m\u001b[0m\n",
      "\u001b[1;31mFileNotFoundError\u001b[0m: [Errno 2] No such file or directory: 'states.json'"
     ]
    }
   ],
   "source": [
    "#create new json file from existing file\n",
    "import json\n",
    "\n",
    "with open('jsonfile.json') as f:\n",
    "    json_data= json.load(f)\n",
    "\n",
    "for state in json_data['states']: \n",
    "    del state['area_codes']\n",
    "\n",
    "with open('new_states.json', 'w') as f: \n",
    "    json.dump(state_data, f, indent=2)"
   ]
  },
  {
   "cell_type": "code",
   "execution_count": 22,
   "metadata": {},
   "outputs": [
    {
     "name": "stdout",
     "output_type": "stream",
     "text": [
      "(4+5j)\n",
      "{'real': 4, 'img': 3}\n",
      "Complex_object:  {'__complex__': True, 'real': 4, 'img': 5}\n",
      "Without complex object:  {'real': 4, 'img': 3}\n"
     ]
    }
   ],
   "source": [
    "#check whether a JSON string contains complex object or not.\n",
    "import json\n",
    "def is_complex_num(objct):\n",
    "    if '__complex__' in objct:\n",
    "        return complex(objct['real'], objct['img'])\n",
    "    return objct\n",
    "\n",
    "complex_object =json.loads('{\"__complex__\": true, \"real\": 4, \"img\": 5}')\n",
    "obj1=is_complex_num(complex_object)\n",
    "simple_object =json.loads('{\"real\": 4, \"img\": 3}')\n",
    "obj2=is_complex_num(simple_object)\n",
    "print(obj1)\n",
    "print(obj2)\n",
    "print(\"Complex_object: \",complex_object)\n",
    "print(\"Without complex object: \",simple_object)"
   ]
  },
  {
   "cell_type": "code",
   "execution_count": 25,
   "metadata": {},
   "outputs": [
    {
     "name": "stdout",
     "output_type": "stream",
     "text": [
      "{\"a\": 2, \"c\": 3, \"d\": 4, \"e\": 5}\n"
     ]
    }
   ],
   "source": [
    "python_obj={\"a\":1,\"a\":2,\"c\":3,\"d\":4,\"e\":5}\n",
    "import json\n",
    "json_obj=json.dumps(python_obj) #json object contains only unique keys and not repeated ones\n",
    "print(json_obj)"
   ]
  },
  {
   "cell_type": "code",
   "execution_count": 27,
   "metadata": {},
   "outputs": [
    {
     "name": "stdout",
     "output_type": "stream",
     "text": [
      "<class 'complex'>\n"
     ]
    }
   ],
   "source": []
  },
  {
   "cell_type": "code",
   "execution_count": null,
   "metadata": {},
   "outputs": [],
   "source": []
  }
 ],
 "metadata": {
  "kernelspec": {
   "display_name": "Python 3",
   "language": "python",
   "name": "python3"
  },
  "language_info": {
   "codemirror_mode": {
    "name": "ipython",
    "version": 3
   },
   "file_extension": ".py",
   "mimetype": "text/x-python",
   "name": "python",
   "nbconvert_exporter": "python",
   "pygments_lexer": "ipython3",
   "version": "3.7.3"
  }
 },
 "nbformat": 4,
 "nbformat_minor": 2
}
