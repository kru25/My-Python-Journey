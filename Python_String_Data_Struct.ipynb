{
 "cells": [
  {
   "cell_type": "code",
   "execution_count": 2,
   "metadata": {},
   "outputs": [
    {
     "name": "stdout",
     "output_type": "stream",
     "text": [
      "Lorem ipsum dolor sit amet,\n",
      "consectetur adipiscing elit,\n",
      "sed do eiusmod tempor incididunt\n",
      "ut labore et dolore magna aliqua.\n"
     ]
    }
   ],
   "source": [
    "sttr=\"Krutika\" # All string method return new values they don't modify original strings\n",
    "a = \"\"\"Lorem ipsum dolor sit amet,\n",
    "consectetur adipiscing elit,           #multiline strings\n",
    "sed do eiusmod tempor incididunt\n",
    "ut labore et dolore magna aliqua.\"\"\"\n",
    "print(a)"
   ]
  },
  {
   "cell_type": "code",
   "execution_count": 32,
   "metadata": {},
   "outputs": [
    {
     "name": "stdout",
     "output_type": "stream",
     "text": [
      "Hello, World!\n",
      "e\n",
      "llo\n",
      "orl\n",
      "13\n",
      "Hello, World!\n",
      "hello, world!\n",
      "Jello, World!\n",
      "['Hello', ' World!']\n"
     ]
    }
   ],
   "source": [
    "a = \"Hello, World!\"\n",
    "print(a)\n",
    "print(a[1])\n",
    "print(a[2:5])\n",
    "print(a[-5:-2])\n",
    "print(len(a))\n",
    "print(a.strip())  #removes any whitespace from the beginning or the end\n",
    "print(a.lower())  #method returns the string in lower case\n",
    "print(a.replace(\"H\", \"J\"))# replaces the character\n",
    "print(a.split(\",\")) # splits into substrings"
   ]
  },
  {
   "cell_type": "code",
   "execution_count": 29,
   "metadata": {},
   "outputs": [
    {
     "name": "stdout",
     "output_type": "stream",
     "text": [
      "True\n",
      "Krutikatalegaonkar\n",
      "Krutika talegaonkar\n",
      "My age is 23\n"
     ]
    }
   ],
   "source": [
    "#Check if a string is present in other string\n",
    "txt = \"The rain in Spain stays mainly in the plain\"\n",
    "print(\"ain\" in txt)\n",
    "#String Concatenation\n",
    "s1=\"Krutika\"\n",
    "s2=\"talegaonkar\"\n",
    "print(s1 + s2)\n",
    "print(s1+\" \"+s2) # to add space\n",
    "# combining strings and numbers using format method\n",
    "s3=\"My age is {}\"\n",
    "s4=23\n",
    "print(s3.format(s4,34))\n"
   ]
  },
  {
   "cell_type": "code",
   "execution_count": 25,
   "metadata": {},
   "outputs": [
    {
     "name": "stdout",
     "output_type": "stream",
     "text": [
      "Krutika5\n",
      "krutika5\n",
      "krutika5\n",
      "2\n",
      "b'krutika5'\n",
      "False\n",
      "krutika5\n",
      "6\n",
      "5\n",
      "True\n",
      "False\n",
      "False\n",
      "False\n",
      "True\n",
      "True\n",
      "False\n",
      "False\n",
      "False\n",
      "krutika5\n",
      "KRUTIKA5\n",
      "Krutika5\n",
      "KRUTIKA5\n",
      "True\n",
      "['My name is Krutika']\n",
      "['My ', 'ame is Krutika']\n",
      "My name is Krutika\n",
      "['My', 'name', 'is', 'Krutika']\n",
      "('My name is Kru', 't', 'ika')\n",
      "16\n",
      "My nbme is Krutikb\n",
      "('My name is Kr', 'u', 'tika')\n"
     ]
    }
   ],
   "source": [
    "#string methods\n",
    "a=\"krutika5\"\n",
    "print(a.capitalize()) # first letter in capital\n",
    "print(a.casefold())  #string in lower case letters\n",
    "print(a.center(8,\"O\")) #centres the string with the character and space as provided in argument\n",
    "print(a.count(\"k\")) # counts the times a particular letter or substring appears in string\n",
    "print(a.encode()) #encodes the string using ascii or other encoding\n",
    "print(a.endswith(\"k\"))# checks if string ends with particular letter or string\n",
    "print(a.expandtabs(10)) #sets tabsize\n",
    "print(a.find(\"a\")) # finds substring\n",
    "print(a.index(\"ka\"))# returns the index of the specified substring\n",
    "print(a.isalnum()) #checks for alphanumeric string\n",
    "print(a.isalpha()) #checks if string has only alphabets\n",
    "print(a.isdecimal()) #if all characters in the string are decimals\n",
    "print(a.isdigit()) #if all characters in the string are digits\n",
    "print(a.isidentifier()) #if it's a valid identifier or not\n",
    "print(a.islower()) #if all the characters are lower case or not \n",
    "print(a.isnumeric()) #if all the characters are numberic or not \n",
    "print(a.isspace()) #checks for whitespaces in string\n",
    "print(a.istitle()) # follows rule of the title\n",
    "print(a.zfill(6)) #fills number of zeroes in the begining\n",
    "print(a.upper()) #converts into upper case\n",
    "print(a.title())# Converts the first character of each word to upper case\n",
    "print(a.swapcase()) #swaps the cases lower into upper and vice-versa\n",
    "print(a.startswith(\"k\")) #checks for start letter \n",
    "b=\"My name is Krutika\"\n",
    "print(b.splitlines()) #splits between the line breaks where break is there or\\n is there\"\n",
    "print(b.split(\"n\")) #splits at particular operator returns list\n",
    "print(b.rstrip()) #strips right space\n",
    "print(b.rsplit()) #splits according to particular words\n",
    "print(b.rpartition(\"t\")) # returns a tuple after splitting\n",
    "print(b.rindex(\"ka\")) #returns last position where the substring was found\n",
    "print(b.replace(\"a\",\"b\")) #replaces a with b in string\n",
    "print(b.partition(\"u\")) #returns tuple after partition(into 3 parts)\n",
    "#partition returns tuple whereas split returns list\n",
    "\n"
   ]
  },
  {
   "cell_type": "code",
   "execution_count": 30,
   "metadata": {},
   "outputs": [
    {
     "name": "stdout",
     "output_type": "stream",
     "text": [
      "7\n",
      "{'o': 3, 'g': 2, 'l': 1, 'e': 1, '.': 1, 'c': 1, 'm': 1}\n"
     ]
    }
   ],
   "source": [
    "#calculate the length of a strings\n",
    "st=\"Krutika\"\n",
    "print(len(st))\n",
    "#count the number of characters (character frequency) in a string\n",
    "st1=\"google.com\"\n",
    "from collections import Counter\n",
    "ctr=Counter(st1)\n",
    "res=ctr.most_common()\n",
    "dic={}\n",
    "dic.update(res)\n",
    "print(dic)"
   ]
  },
  {
   "cell_type": "code",
   "execution_count": 43,
   "metadata": {},
   "outputs": [
    {
     "name": "stdout",
     "output_type": "stream",
     "text": [
      "w3w3\n"
     ]
    }
   ],
   "source": [
    "#string made of the first 2 and the last 2 chars from a given a string. \n",
    "#If the string length is less than 2,return instead of the empty string\n",
    "sa=\"w3\"\n",
    "siz=len(sa)\n",
    "if(siz<2):\n",
    "    print(\"Empty String\")\n",
    "else:\n",
    "    print(sa[0:2]+sa[-2:])"
   ]
  },
  {
   "cell_type": "code",
   "execution_count": 47,
   "metadata": {},
   "outputs": [
    {
     "name": "stdout",
     "output_type": "stream",
     "text": [
      "resta$t\n"
     ]
    }
   ],
   "source": [
    "#get a string from a given string where all occurrences of its first char have been changed to '$', \n",
    "#except the first char itself\n",
    "sa='restart'\n",
    "for i in sa:\n",
    "    if(i==sa[0]):\n",
    "        st=sa.replace(i,\"$\")\n",
    "st=sa[0]+st[1:]\n",
    "print(st)"
   ]
  },
  {
   "cell_type": "code",
   "execution_count": 73,
   "metadata": {},
   "outputs": [
    {
     "name": "stdout",
     "output_type": "stream",
     "text": [
      "xyc abz\n",
      "Leave it\n",
      "The lyrics is good but its fantastic\n"
     ]
    }
   ],
   "source": [
    "# get a single string from two given strings, separated by a space and swap the first two characters of each string\n",
    "s1=\"abc\"\n",
    "s2=\"xyz\"\n",
    "s3=s1[0:2]+s2[-1]\n",
    "s4=s2[0:2]+s1[-1]\n",
    "print(s4+\" \"+s3)\n",
    "# add 'ing' at the end of a given string (length should be at least 3). If the given string already ends with 'ing' \n",
    "#then add 'ly' instead. If the string length of the given string is less than 3, leave it\n",
    "st=\"ti\"\n",
    "if(len(st)<3):\n",
    "    print(\"Leave it\")\n",
    "else:\n",
    "    if(st.endswith(\"ing\")):\n",
    "        print(st+\"ly\")\n",
    "    else:\n",
    "        print(st+\"ing\")\n",
    "#first appearance of the substring 'not' and 'poor' from a given string, if 'not' follows the 'poor',\n",
    "#replace the whole 'not'...'poor' substring with 'good'. Return the resulting string.\n",
    "sp=\"The lyrics is not that poor but its fantastic\"\n",
    "pos1=sp.find(\"not\")\n",
    "pos2=sp.find(\"poor\")\n",
    "if(pos1<pos2):\n",
    "    print(sp.replace(sp[pos1:pos2+4],\"good\"))\n",
    "else:\n",
    "    print(sp)"
   ]
  },
  {
   "cell_type": "code",
   "execution_count": 75,
   "metadata": {},
   "outputs": [
    {
     "name": "stdout",
     "output_type": "stream",
     "text": [
      "Largest length is 9\n"
     ]
    }
   ],
   "source": [
    "#function that takes a list of words and returns the length of the longest one\n",
    "st=[\"Krutika\",\"Tale\",\"Girl\",\"Depressed\"]\n",
    "def larg_len(st):\n",
    "    for i in st:\n",
    "        lenlist=[]\n",
    "        lenlist.append(len(i))\n",
    "    ma=max(lenlist)\n",
    "    return(ma)\n",
    "print(\"Largest length is\" , larg_len(st))\n",
    "#program to remove the nth index character from a nonempty string."
   ]
  },
  {
   "cell_type": "code",
   "execution_count": 95,
   "metadata": {},
   "outputs": [
    {
     "name": "stdout",
     "output_type": "stream",
     "text": [
      "Position7\n",
      "Krutika\n",
      "fuiuhr\n",
      "Krutikafuiuhr\n"
     ]
    }
   ],
   "source": [
    "# program to remove the nth index character from a nonempty string.\n",
    "st=\"Krutikaefuiuhr\" #string doesn't support deletion\n",
    "n=input(\"Position\")\n",
    "n=int(n)\n",
    "if(st.isspace()):\n",
    "    print(\"Empty string\")\n",
    "else:\n",
    "    st1=st[0:n]\n",
    "    st2=st[n+1:]\n",
    "    print(st1)\n",
    "    print(st2)\n",
    "    print(st1+st2)"
   ]
  },
  {
   "cell_type": "code",
   "execution_count": 109,
   "metadata": {},
   "outputs": [
    {
     "name": "stdout",
     "output_type": "stream",
     "text": [
      "arutikK\n",
      "\n",
      "Kuia\n"
     ]
    }
   ],
   "source": [
    "#change a given string to a new string where the first and last chars have been exchanged\n",
    "sp=\"Krutika\"\n",
    "t=sp[0]\n",
    "st=sp[-1]+sp[1:-1]+sp[0]\n",
    "print(st)\n",
    "#remove the characters which have odd index values of a given string\n",
    "s1=\"Krutika\"\n",
    "news=\"\"\n",
    "print(news)\n",
    "for i in range(len(sp)):\n",
    "    if((i%2)==0):\n",
    "        news=news+sp[i]\n",
    "print(news)"
   ]
  },
  {
   "cell_type": "code",
   "execution_count": null,
   "metadata": {},
   "outputs": [],
   "source": [
    "# takes input from the user and displays that input back in upper and lower cases\n",
    "instr=input(\"Enter the string: \")\n",
    "print(\"Upper: \" ,instr.upper())\n",
    "print(\"Lower: \" ,instr.lower())"
   ]
  },
  {
   "cell_type": "code",
   "execution_count": null,
   "metadata": {},
   "outputs": [],
   "source": [
    "#count the occurrences of each word in a given sentence\n",
    "sen=\"to seen you me seen you we\"\n",
    "sen1=sen.split(\" \")\n",
    "print(sen1)\n",
    "dic={}\n",
    "for i in sen1:\n",
    "    dic.setdefault(i,sen1.count(i))\n",
    "print(dic)"
   ]
  },
  {
   "cell_type": "code",
   "execution_count": null,
   "metadata": {},
   "outputs": [],
   "source": [
    "n=int(input())\n",
    "lis=[]\n",
    "for i in range(n):\n",
    "    name=str(input())\n",
    "    score=float(input())\n",
    "    lis.append(name,score)\n",
    "\n"
   ]
  },
  {
   "cell_type": "code",
   "execution_count": null,
   "metadata": {},
   "outputs": [],
   "source": []
  }
 ],
 "metadata": {
  "kernelspec": {
   "display_name": "Python 3",
   "language": "python",
   "name": "python3"
  },
  "language_info": {
   "codemirror_mode": {
    "name": "ipython",
    "version": 3
   },
   "file_extension": ".py",
   "mimetype": "text/x-python",
   "name": "python",
   "nbconvert_exporter": "python",
   "pygments_lexer": "ipython3",
   "version": "3.7.3"
  }
 },
 "nbformat": 4,
 "nbformat_minor": 2
}
