{
 "cells": [
  {
   "cell_type": "code",
   "execution_count": 2,
   "metadata": {},
   "outputs": [
    {
     "name": "stdout",
     "output_type": "stream",
     "text": [
      "{1: 'A', 2: 'B', 3: 'C'}\n"
     ]
    }
   ],
   "source": [
    "#printing dictionary\n",
    "dic={1:\"A\",2:\"B\",3:\"C\"}\n",
    "print(dic)"
   ]
  },
  {
   "cell_type": "code",
   "execution_count": 38,
   "metadata": {},
   "outputs": [
    {
     "name": "stdout",
     "output_type": "stream",
     "text": [
      "None\n",
      "{1: 'A', 2: 'B', 3: 'C'}\n",
      "{(1, 2): None, (3, 4): None}\n",
      "{1: 'A', 2: 'B', 3: 'C'}\n",
      "A\n",
      "dict_items([(1, 'A'), (2, 'B'), (3, 'C')])\n",
      "dict_keys([1, 2, 3])\n",
      "(3, 'C')\n",
      "C\n",
      "B\n",
      "dict_values(['A', 'C'])\n",
      "None\n",
      "{1: 2, 3: 4}\n"
     ]
    }
   ],
   "source": [
    "#basic dictionary methods\n",
    "print(dic.clear()) # clears dictionary\n",
    "dic={1:\"A\",2:\"B\",3:\"C\"}\n",
    "a=dic.copy()#creates copy\n",
    "print(a)\n",
    "print(dic.fromkeys([(1,2),(3,4)]))# creates dictionary from given set of key\n",
    "print(dic.get(1))# gives value from the key(argument)\n",
    "print(dic.items())# gives key,value pairs\n",
    "print(dic.keys()) #gives keys\n",
    "print(dic.popitem()) # removes latest element from dictionary\n",
    "print(dic.setdefault(3,\"C\")) # adds key,value pair to dictionary\n",
    "print(dic.pop(2)) # removes element from given key\n",
    "print(dic.values()) # gives values\n",
    "print(dic.update([(1,2),(3,4)])) # updates the dictionary with either other dictionary or key,value pairs(tuples)\n",
    "print(dic)"
   ]
  },
  {
   "cell_type": "code",
   "execution_count": 1,
   "metadata": {},
   "outputs": [
    {
     "name": "stdout",
     "output_type": "stream",
     "text": [
      "{'C': 1, 'A': 2, 'B': 3}\n"
     ]
    }
   ],
   "source": [
    "#sort (ascending and descending) a dictionary by value\n",
    "dic={\"A\":2,\"B\":3,\"C\":1}\n",
    "dicsor=dict(sorted(dic.items(), key=lambda x:x[1],reverse=False))\n",
    "print(dicsor)\n",
    "#sorted(iterable, key=None, reverse=False)\n",
    "\n"
   ]
  },
  {
   "cell_type": "code",
   "execution_count": 2,
   "metadata": {},
   "outputs": [
    {
     "name": "stdout",
     "output_type": "stream",
     "text": [
      "{'A': 1, 'B': 2, 'C': 3}\n"
     ]
    }
   ],
   "source": [
    "#Python script to add a key to a dictionary\n",
    "dic={\"A\":1,\"B\":2}\n",
    "dic.setdefault(\"C\",3)\n",
    "print(dic)"
   ]
  },
  {
   "cell_type": "code",
   "execution_count": 3,
   "metadata": {},
   "outputs": [
    {
     "name": "stdout",
     "output_type": "stream",
     "text": [
      "{1: 10, 2: 20, 3: 30, 4: 40, 5: 50, 6: 60}\n"
     ]
    }
   ],
   "source": [
    "#concatenate following dictionaries to create a new one\n",
    "dic1={1:10, 2:20}\n",
    "dic2={3:30, 4:40}\n",
    "dic3={5:50,6:60}\n",
    "dic4= {}\n",
    "for d in (dic1,dic2,dic3):\n",
    "    dic4.update(d)\n",
    "print(dic4)"
   ]
  },
  {
   "cell_type": "code",
   "execution_count": 4,
   "metadata": {},
   "outputs": [
    {
     "name": "stdout",
     "output_type": "stream",
     "text": [
      "Enter3\n",
      "present\n"
     ]
    }
   ],
   "source": [
    "#check whether a given key already exists in a dictionary\n",
    "dic={1:\"A\",2:\"B\",3:\"C\"}\n",
    "n=input(\"Enter\")\n",
    "n=int(n)\n",
    "dicvalue=list(dic.keys())\n",
    "if n in dicvalue:\n",
    "    print(\"present\")\n",
    "else:\n",
    "    print(\"Absent\")\n",
    "    "
   ]
  },
  {
   "cell_type": "code",
   "execution_count": 7,
   "metadata": {},
   "outputs": [
    {
     "name": "stdout",
     "output_type": "stream",
     "text": [
      "(1, 'A')\n",
      "(2, 'B')\n",
      "(3, 'C')\n"
     ]
    }
   ],
   "source": [
    "#iterate over dictionaries using for loops\n",
    "dic={1:\"A\",2:\"B\",3:\"C\"}\n",
    "for d in dic.items():\n",
    "    print(d)"
   ]
  },
  {
   "cell_type": "code",
   "execution_count": 11,
   "metadata": {},
   "outputs": [
    {
     "name": "stdout",
     "output_type": "stream",
     "text": [
      "enter5\n",
      "[(1, 1), (2, 4), (3, 9), (4, 16), (5, 25)]\n",
      "{1: 1, 2: 4, 3: 9, 4: 16, 5: 25}\n"
     ]
    }
   ],
   "source": [
    "#generate and print a dictionary that contains a number (between 1 and n) in the form (x, x*x)\n",
    "dic= {}\n",
    "n=input(\"enter\")\n",
    "n=int(n)\n",
    "l1=[]\n",
    "for i in range(1,n+1):\n",
    "    p=(i,i*i)\n",
    "    l1.append(p)\n",
    "print(l1)\n",
    "dic.update(l1)\n",
    "print(dic)"
   ]
  },
  {
   "cell_type": "code",
   "execution_count": 12,
   "metadata": {},
   "outputs": [
    {
     "name": "stdout",
     "output_type": "stream",
     "text": [
      "[(1, 1), (2, 4), (3, 9), (4, 16), (5, 25), (6, 36), (7, 49), (8, 64), (9, 81), (10, 100), (11, 121), (12, 144), (13, 169), (14, 196), (15, 225)]\n",
      "{1: 1, 2: 4, 3: 9, 4: 16, 5: 25, 6: 36, 7: 49, 8: 64, 9: 81, 10: 100, 11: 121, 12: 144, 13: 169, 14: 196, 15: 225}\n"
     ]
    }
   ],
   "source": [
    "#a dictionary where the keys are numbers between 1 and 15 (both included) and the values are square of keys\n",
    "l1=[]\n",
    "for i in range(1,15+1):\n",
    "    p=(i,i*i)\n",
    "    l1.append(p)\n",
    "print(l1)\n",
    "dic.update(l1)\n",
    "print(dic)"
   ]
  },
  {
   "cell_type": "code",
   "execution_count": 13,
   "metadata": {},
   "outputs": [
    {
     "name": "stdout",
     "output_type": "stream",
     "text": [
      "{'A': 1, 'B': 2, 'C': 3, 'D': 4}\n"
     ]
    }
   ],
   "source": [
    "#merge two Python dictionaries\n",
    "dic1={\"A\":1,\"B\":2}\n",
    "dic2={\"C\":3,\"D\":4}\n",
    "dic3={}\n",
    "for d in (dic1,dic2):\n",
    "    dic3.update(d)\n",
    "print(dic3)"
   ]
  },
  {
   "cell_type": "code",
   "execution_count": 25,
   "metadata": {},
   "outputs": [
    {
     "name": "stdout",
     "output_type": "stream",
     "text": [
      "{'A': 1, 'C': 3, 'D': 4}\n",
      "sum is 8\n",
      "product is 12\n"
     ]
    }
   ],
   "source": [
    "#sum,multiply all the items in a dictionary\n",
    "print(dic3)\n",
    "sum=0\n",
    "pro=1\n",
    "di=list(dic3.values())\n",
    "for d in di:\n",
    "    sum=sum+d\n",
    "    pro=pro*d\n",
    "print(\"sum is\" , sum)\n",
    "print(\"product is\" , pro)"
   ]
  },
  {
   "cell_type": "code",
   "execution_count": 26,
   "metadata": {},
   "outputs": [
    {
     "name": "stdout",
     "output_type": "stream",
     "text": [
      "{'A': 1, 'D': 4}\n"
     ]
    }
   ],
   "source": [
    "#remove a key from a dictionary\n",
    "dic3.pop(\"C\")\n",
    "print(dic3)"
   ]
  },
  {
   "cell_type": "code",
   "execution_count": 31,
   "metadata": {},
   "outputs": [
    {
     "name": "stdout",
     "output_type": "stream",
     "text": [
      "{1: 'A', 2: 'B', 3: 'C', 4: 'D'}\n"
     ]
    }
   ],
   "source": [
    "#map two lists into a dictionary\n",
    "lkey=(1,2,3,4)\n",
    "lvalue=(\"A\",\"B\",\"C\",\"D\")\n",
    "dic3=dict(zip(lkey,lvalue))\n",
    "print(dic3)"
   ]
  },
  {
   "cell_type": "code",
   "execution_count": 33,
   "metadata": {},
   "outputs": [
    {
     "name": "stdout",
     "output_type": "stream",
     "text": [
      "{1: 'A', 2: 'H', 4: 'J'}\n"
     ]
    }
   ],
   "source": [
    "#to sort a dictionary by key\n",
    "dic={1:\"A\",4:\"J\",2:\"H\"}\n",
    "dicsor=dict(sorted(dic.items(), key=lambda x:x[0],reverse=False))\n",
    "print(dicsor)"
   ]
  },
  {
   "cell_type": "code",
   "execution_count": 35,
   "metadata": {},
   "outputs": [
    {
     "name": "stdout",
     "output_type": "stream",
     "text": [
      "6 3\n"
     ]
    }
   ],
   "source": [
    "#maximum and minimum value in a dictionary\n",
    "dic={1:3,4:5,2:6}\n",
    "valist=list(dic.values())\n",
    "print(max(valist),min(valist))"
   ]
  },
  {
   "cell_type": "code",
   "execution_count": 37,
   "metadata": {},
   "outputs": [
    {
     "name": "stdout",
     "output_type": "stream",
     "text": [
      "{'x': 'red', 'y': 'Yellow', 'z': 'Green'}\n"
     ]
    }
   ],
   "source": [
    "#dictionary from an object's fields\n",
    "class dictObj(object):\n",
    "     def __init__(self):   #based on Oops concepts\n",
    "         self.x = 'red'\n",
    "         self.y = 'Yellow'\n",
    "         self.z = 'Green'\n",
    "     #def do_nothing(self):\n",
    "         #pass\n",
    "test = dictObj()\n",
    "print(test.__dict__)"
   ]
  },
  {
   "cell_type": "code",
   "execution_count": 40,
   "metadata": {},
   "outputs": [
    {
     "name": "stdout",
     "output_type": "stream",
     "text": [
      "not empty\n"
     ]
    }
   ],
   "source": [
    "#check if dictionary is empty or not\n",
    "dic={1}\n",
    "if dic:\n",
    "    print(\"not empty\")\n",
    "else:\n",
    "    print(\"empty\")"
   ]
  },
  {
   "cell_type": "code",
   "execution_count": 65,
   "metadata": {},
   "outputs": [
    {
     "name": "stdout",
     "output_type": "stream",
     "text": [
      "['a', 'b', 'c']\n",
      "[['a', 400], ['b', 400], ['d', 400], ['c', 300]]\n",
      "{'a': 400, 'b': 400, 'd': 400, 'c': 300}\n",
      "Counter({'a': 400, 'b': 400, 'd': 400, 'c': 300})\n",
      "Counter({'c': 300, 'b': 200, 'a': 100})\n"
     ]
    }
   ],
   "source": [
    "#combine two dictionary adding values for common keys.\n",
    "d1={'a': 100, 'b': 200, 'c':300}\n",
    "d2={'a': 300, 'b': 200, 'd':400}\n",
    "d1key=list(d1.keys())\n",
    "d2key=list(d2.keys())\n",
    "print(d1key)\n",
    "val=[]\n",
    "for i in d1key:\n",
    "    for j in d2key:\n",
    "        if(i==j):\n",
    "            val.append([i,(d1.get(i)+d2.get(j))])\n",
    "val.append([j,d2.get(j)])\n",
    "val.append([i,d1.get(i)])\n",
    "print(val)\n",
    "newdic= {}\n",
    "newdic.update(val)\n",
    "print(newdic) \n",
    "#OR using collection module's counter function\n",
    "from collections import Counter\n",
    "d1 = {'a': 100, 'b': 200, 'c':300}\n",
    "d2 = {'a': 300, 'b': 200, 'd':400}\n",
    "d = Counter(d1) + Counter(d2)\n",
    "print(d)\n",
    "#use of counter statement in collections\n",
    "di={\"a\":100,\"b\":200,\"c\":300}\n",
    "print(Counter(di))\n"
   ]
  },
  {
   "cell_type": "code",
   "execution_count": 89,
   "metadata": {},
   "outputs": [
    {
     "name": "stdout",
     "output_type": "stream",
     "text": [
      "{'S001', 'S005', 'S002', 'S009', 'S007'}\n",
      "{'S001', 'S005', 'S002', 'S009', 'S007'}\n"
     ]
    }
   ],
   "source": [
    "#print all unique values in a dictionary\n",
    "lisdic=[{\"V\":\"S001\"}, {\"V\": \"S002\"}, {\"VI\": \"S001\"}, {\"VI\": \"S005\"}, {\"VII\":\"S005\"}, {\"V\":\"S009\"},{\"VIII\":\"S007\"}]\n",
    "uval=set(val for i in lisdic for val in i.values())\n",
    "print(uval)\n",
    "## using long loop\n",
    "u_val=[]\n",
    "for j in lisdic:\n",
    "    for i in j:\n",
    "        u_val.append(j.get(i))\n",
    "print(set(u_val))"
   ]
  },
  {
   "cell_type": "code",
   "execution_count": 126,
   "metadata": {},
   "outputs": [
    {
     "name": "stdout",
     "output_type": "stream",
     "text": [
      "[['a', 'b'], ['c', 'd']]\n",
      "ac\n",
      "ad\n",
      "bc\n",
      "bd\n"
     ]
    }
   ],
   "source": [
    "#create and display all combinations of letters, selecting each letter from a different key in a dictionary\n",
    "dic={'1':['a','b'], '2':['c','d']}\n",
    "kei=[]\n",
    "for i in dic:\n",
    "    kei.append(dic.get(i))\n",
    "print(kei)\n",
    "d ={'1':['a','b'], '2':['c','d']}\n",
    "import itertools\n",
    "for combo in itertools.product(*[d[k] for k in sorted(d.keys())]): #yet to understand \n",
    "    print(''.join(combo))\n"
   ]
  },
  {
   "cell_type": "code",
   "execution_count": 133,
   "metadata": {},
   "outputs": [
    {
     "name": "stdout",
     "output_type": "stream",
     "text": [
      "[4, 3, 2]\n",
      "['b', 'e', 'c']\n"
     ]
    }
   ],
   "source": [
    "#highest 3 values in a dictionary\n",
    "dic={\"A\":1,\"B\":2,\"C\":3,\"D\":4}\n",
    "lin=list(dic.values())\n",
    "lin=sorted(lin,reverse=True)\n",
    "print(lin[0:3])\n",
    "#using library direct\n",
    "from heapq import nlargest\n",
    "my_dict = {'a':500, 'b':5874, 'c': 560,'d':400, 'e':5874, 'f': 20}  \n",
    "three_largest = nlargest(3, my_dict, key=my_dict.get) #syntax for nlargest\n",
    "print(three_largest) "
   ]
  },
  {
   "cell_type": "code",
   "execution_count": 164,
   "metadata": {},
   "outputs": [
    {
     "name": "stdout",
     "output_type": "stream",
     "text": [
      "Counter()\n",
      "Counter({'item1': 1150, 'item2': 300})\n"
     ]
    }
   ],
   "source": [
    "#combine values in python list of dictionaries\n",
    "from collections import Counter\n",
    "dic=[{'item': 'item1', 'amount': 400}, {'item': 'item2', 'amount': 300}, {'item': 'item1', 'amount': 750}]\n",
    "cal=Counter()\n",
    "print(cal)\n",
    "for d in dic:\n",
    "    cal[d['item']]=cal[d['item']]+d['amount']\n",
    "print(cal)"
   ]
  },
  {
   "cell_type": "code",
   "execution_count": 169,
   "metadata": {},
   "outputs": [
    {
     "name": "stdout",
     "output_type": "stream",
     "text": [
      "{'r': 2, 'e': 2, 'w': 1, '3': 1, 's': 1, 'o': 1, 'u': 1, 'c': 1}\n"
     ]
    }
   ],
   "source": [
    "#create a dictionary from a string\n",
    "instr=\"w3resource\"\n",
    "from collections import Counter\n",
    "cnt=Counter(instr)\n",
    "cnt=cnt.most_common()\n",
    "newdic={}\n",
    "newdic.update(cnt)\n",
    "print(newdic)"
   ]
  },
  {
   "cell_type": "code",
   "execution_count": 175,
   "metadata": {},
   "outputs": [
    {
     "name": "stdout",
     "output_type": "stream",
     "text": [
      "    0            1\n",
      "0  C1    [1, 2, 3]\n",
      "1  C2    [5, 6, 7]\n",
      "2  C3  [9, 10, 11]\n"
     ]
    }
   ],
   "source": [
    "# print dictionary in table format\n",
    "import pandas as pd\n",
    "my_dict = {'C1':[1,2,3],'C2':[5,6,7],'C3':[9,10,11]}\n",
    "df=pd.DataFrame(my_dict.items())\n",
    "print(df)"
   ]
  },
  {
   "cell_type": "code",
   "execution_count": null,
   "metadata": {},
   "outputs": [],
   "source": []
  }
 ],
 "metadata": {
  "kernelspec": {
   "display_name": "Python 3",
   "language": "python",
   "name": "python3"
  },
  "language_info": {
   "codemirror_mode": {
    "name": "ipython",
    "version": 3
   },
   "file_extension": ".py",
   "mimetype": "text/x-python",
   "name": "python",
   "nbconvert_exporter": "python",
   "pygments_lexer": "ipython3",
   "version": "3.7.3"
  }
 },
 "nbformat": 4,
 "nbformat_minor": 2
}
